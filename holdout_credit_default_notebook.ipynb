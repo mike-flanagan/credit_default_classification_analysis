{
 "cells": [
  {
   "cell_type": "markdown",
   "metadata": {},
   "source": [
    "## Setup"
   ]
  },
  {
   "cell_type": "markdown",
   "metadata": {},
   "source": [
    "#### Import Packages"
   ]
  },
  {
   "cell_type": "code",
   "execution_count": 2,
   "metadata": {},
   "outputs": [],
   "source": [
    "import pandas as pd\n",
    "import numpy as np\n",
    "from scipy import stats\n",
    "import seaborn as sns\n",
    "sns.set_theme()\n",
    "import pickle\n",
    "import matplotlib.pyplot as plt\n",
    "%matplotlib inline\n",
    "from statsmodels.formula.api import ols\n",
    "from sklearn.model_selection import cross_val_score\n",
    "from sklearn.tree import DecisionTreeClassifier\n",
    "from sklearn.neighbors import KNeighborsClassifier\n",
    "from sklearn.linear_model import LogisticRegression\n",
    "from sklearn.linear_model import LinearRegression\n",
    "from sklearn.feature_selection import SelectKBest, f_regression, mutual_info_regression\n",
    "from sklearn.feature_selection import RFECV\n",
    "from sklearn.model_selection import train_test_split\n",
    "from sklearn import metrics\n",
    "from sklearn.preprocessing import PolynomialFeatures\n",
    "from sklearn.preprocessing import StandardScaler\n",
    "\n",
    "pd.set_option('display.max_columns', None)\n",
    "pd.set_option('display.max_rows', 30)"
   ]
  },
  {
   "cell_type": "markdown",
   "metadata": {},
   "source": [
    "#### Reading in CSV to DataFrame"
   ]
  },
  {
   "cell_type": "code",
   "execution_count": 3,
   "metadata": {},
   "outputs": [],
   "source": [
    "df = pd.read_csv('data/holdout_data.csv', index_col = 0)"
   ]
  },
  {
   "cell_type": "code",
   "execution_count": 4,
   "metadata": {},
   "outputs": [
    {
     "data": {
      "text/html": [
       "<div>\n",
       "<style scoped>\n",
       "    .dataframe tbody tr th:only-of-type {\n",
       "        vertical-align: middle;\n",
       "    }\n",
       "\n",
       "    .dataframe tbody tr th {\n",
       "        vertical-align: top;\n",
       "    }\n",
       "\n",
       "    .dataframe thead th {\n",
       "        text-align: right;\n",
       "    }\n",
       "</style>\n",
       "<table border=\"1\" class=\"dataframe\">\n",
       "  <thead>\n",
       "    <tr style=\"text-align: right;\">\n",
       "      <th></th>\n",
       "      <th>X1</th>\n",
       "      <th>X2</th>\n",
       "      <th>X3</th>\n",
       "      <th>X4</th>\n",
       "      <th>X5</th>\n",
       "      <th>X6</th>\n",
       "      <th>X7</th>\n",
       "      <th>X8</th>\n",
       "      <th>X9</th>\n",
       "      <th>X10</th>\n",
       "      <th>X11</th>\n",
       "      <th>X12</th>\n",
       "      <th>X13</th>\n",
       "      <th>X14</th>\n",
       "      <th>X15</th>\n",
       "      <th>X16</th>\n",
       "      <th>X17</th>\n",
       "      <th>X18</th>\n",
       "      <th>X19</th>\n",
       "      <th>X20</th>\n",
       "      <th>X21</th>\n",
       "      <th>X22</th>\n",
       "      <th>X23</th>\n",
       "    </tr>\n",
       "  </thead>\n",
       "  <tbody>\n",
       "    <tr>\n",
       "      <th>5501</th>\n",
       "      <td>180000</td>\n",
       "      <td>2</td>\n",
       "      <td>2</td>\n",
       "      <td>1</td>\n",
       "      <td>44</td>\n",
       "      <td>0</td>\n",
       "      <td>0</td>\n",
       "      <td>0</td>\n",
       "      <td>0</td>\n",
       "      <td>0</td>\n",
       "      <td>0</td>\n",
       "      <td>161186</td>\n",
       "      <td>167080</td>\n",
       "      <td>170788</td>\n",
       "      <td>174764</td>\n",
       "      <td>162667</td>\n",
       "      <td>166953</td>\n",
       "      <td>10000</td>\n",
       "      <td>8000</td>\n",
       "      <td>7000</td>\n",
       "      <td>6000</td>\n",
       "      <td>7000</td>\n",
       "      <td>10000</td>\n",
       "    </tr>\n",
       "    <tr>\n",
       "      <th>28857</th>\n",
       "      <td>130000</td>\n",
       "      <td>2</td>\n",
       "      <td>2</td>\n",
       "      <td>1</td>\n",
       "      <td>48</td>\n",
       "      <td>-2</td>\n",
       "      <td>-2</td>\n",
       "      <td>-2</td>\n",
       "      <td>-2</td>\n",
       "      <td>-2</td>\n",
       "      <td>-2</td>\n",
       "      <td>0</td>\n",
       "      <td>1240</td>\n",
       "      <td>1487</td>\n",
       "      <td>1279</td>\n",
       "      <td>749</td>\n",
       "      <td>440</td>\n",
       "      <td>1240</td>\n",
       "      <td>1487</td>\n",
       "      <td>1279</td>\n",
       "      <td>749</td>\n",
       "      <td>440</td>\n",
       "      <td>849</td>\n",
       "    </tr>\n",
       "    <tr>\n",
       "      <th>11272</th>\n",
       "      <td>60000</td>\n",
       "      <td>2</td>\n",
       "      <td>1</td>\n",
       "      <td>1</td>\n",
       "      <td>43</td>\n",
       "      <td>-1</td>\n",
       "      <td>3</td>\n",
       "      <td>2</td>\n",
       "      <td>0</td>\n",
       "      <td>0</td>\n",
       "      <td>-1</td>\n",
       "      <td>495</td>\n",
       "      <td>330</td>\n",
       "      <td>495</td>\n",
       "      <td>330</td>\n",
       "      <td>165</td>\n",
       "      <td>340</td>\n",
       "      <td>0</td>\n",
       "      <td>330</td>\n",
       "      <td>0</td>\n",
       "      <td>0</td>\n",
       "      <td>340</td>\n",
       "      <td>0</td>\n",
       "    </tr>\n",
       "    <tr>\n",
       "      <th>8206</th>\n",
       "      <td>240000</td>\n",
       "      <td>1</td>\n",
       "      <td>1</td>\n",
       "      <td>1</td>\n",
       "      <td>42</td>\n",
       "      <td>0</td>\n",
       "      <td>0</td>\n",
       "      <td>0</td>\n",
       "      <td>0</td>\n",
       "      <td>0</td>\n",
       "      <td>0</td>\n",
       "      <td>72339</td>\n",
       "      <td>91045</td>\n",
       "      <td>91027</td>\n",
       "      <td>51508</td>\n",
       "      <td>51127</td>\n",
       "      <td>0</td>\n",
       "      <td>20000</td>\n",
       "      <td>2213</td>\n",
       "      <td>1030</td>\n",
       "      <td>1023</td>\n",
       "      <td>6790</td>\n",
       "      <td>10893</td>\n",
       "    </tr>\n",
       "    <tr>\n",
       "      <th>6362</th>\n",
       "      <td>100000</td>\n",
       "      <td>2</td>\n",
       "      <td>2</td>\n",
       "      <td>1</td>\n",
       "      <td>28</td>\n",
       "      <td>2</td>\n",
       "      <td>0</td>\n",
       "      <td>0</td>\n",
       "      <td>0</td>\n",
       "      <td>0</td>\n",
       "      <td>2</td>\n",
       "      <td>73073</td>\n",
       "      <td>74739</td>\n",
       "      <td>70844</td>\n",
       "      <td>63924</td>\n",
       "      <td>57326</td>\n",
       "      <td>59654</td>\n",
       "      <td>3500</td>\n",
       "      <td>3003</td>\n",
       "      <td>1910</td>\n",
       "      <td>2400</td>\n",
       "      <td>3300</td>\n",
       "      <td>0</td>\n",
       "    </tr>\n",
       "  </tbody>\n",
       "</table>\n",
       "</div>"
      ],
      "text/plain": [
       "           X1  X2  X3  X4  X5  X6  X7  X8  X9  X10  X11     X12     X13  \\\n",
       "5501   180000   2   2   1  44   0   0   0   0    0    0  161186  167080   \n",
       "28857  130000   2   2   1  48  -2  -2  -2  -2   -2   -2       0    1240   \n",
       "11272   60000   2   1   1  43  -1   3   2   0    0   -1     495     330   \n",
       "8206   240000   1   1   1  42   0   0   0   0    0    0   72339   91045   \n",
       "6362   100000   2   2   1  28   2   0   0   0    0    2   73073   74739   \n",
       "\n",
       "          X14     X15     X16     X17    X18   X19   X20   X21   X22    X23  \n",
       "5501   170788  174764  162667  166953  10000  8000  7000  6000  7000  10000  \n",
       "28857    1487    1279     749     440   1240  1487  1279   749   440    849  \n",
       "11272     495     330     165     340      0   330     0     0   340      0  \n",
       "8206    91027   51508   51127       0  20000  2213  1030  1023  6790  10893  \n",
       "6362    70844   63924   57326   59654   3500  3003  1910  2400  3300      0  "
      ]
     },
     "execution_count": 4,
     "metadata": {},
     "output_type": "execute_result"
    }
   ],
   "source": [
    "df.head()"
   ]
  },
  {
   "cell_type": "markdown",
   "metadata": {},
   "source": [
    "## Data Cleaning"
   ]
  },
  {
   "cell_type": "markdown",
   "metadata": {},
   "source": [
    "First, I inspect the training dataset for null-values and the datatypes of values."
   ]
  },
  {
   "cell_type": "code",
   "execution_count": 6,
   "metadata": {
    "collapsed": true
   },
   "outputs": [
    {
     "name": "stdout",
     "output_type": "stream",
     "text": [
      "<class 'pandas.core.frame.DataFrame'>\n",
      "Int64Index: 7501 entries, 5501 to 10111\n",
      "Data columns (total 23 columns):\n",
      " #   Column  Non-Null Count  Dtype\n",
      "---  ------  --------------  -----\n",
      " 0   X1      7501 non-null   int64\n",
      " 1   X2      7501 non-null   int64\n",
      " 2   X3      7501 non-null   int64\n",
      " 3   X4      7501 non-null   int64\n",
      " 4   X5      7501 non-null   int64\n",
      " 5   X6      7501 non-null   int64\n",
      " 6   X7      7501 non-null   int64\n",
      " 7   X8      7501 non-null   int64\n",
      " 8   X9      7501 non-null   int64\n",
      " 9   X10     7501 non-null   int64\n",
      " 10  X11     7501 non-null   int64\n",
      " 11  X12     7501 non-null   int64\n",
      " 12  X13     7501 non-null   int64\n",
      " 13  X14     7501 non-null   int64\n",
      " 14  X15     7501 non-null   int64\n",
      " 15  X16     7501 non-null   int64\n",
      " 16  X17     7501 non-null   int64\n",
      " 17  X18     7501 non-null   int64\n",
      " 18  X19     7501 non-null   int64\n",
      " 19  X20     7501 non-null   int64\n",
      " 20  X21     7501 non-null   int64\n",
      " 21  X22     7501 non-null   int64\n",
      " 22  X23     7501 non-null   int64\n",
      "dtypes: int64(23)\n",
      "memory usage: 1.7 MB\n"
     ]
    }
   ],
   "source": [
    "df.info()"
   ]
  },
  {
   "cell_type": "code",
   "execution_count": 11,
   "metadata": {},
   "outputs": [
    {
     "data": {
      "text/plain": [
       "2    3514\n",
       "1    2666\n",
       "3    1204\n",
       "5      72\n",
       "4      33\n",
       "6       9\n",
       "0       3\n",
       "Name: education, dtype: int64"
      ]
     },
     "execution_count": 11,
     "metadata": {},
     "output_type": "execute_result"
    }
   ],
   "source": [
    "df.education.value_counts()"
   ]
  },
  {
   "cell_type": "code",
   "execution_count": 8,
   "metadata": {},
   "outputs": [],
   "source": [
    "# CLEANING: setting column names to match features from training dataset\n",
    "df.columns = ['limit_bal', 'sex', 'education', 'marriage', 'age', 'pay_0', 'pay_2', 'pay_3', 'pay_4', 'pay_5', 'pay_6', 'bill_amt1', 'bill_amt2', 'bill_amt3', 'bill_amt4', 'bill_amt5', 'bill_amt6', 'pay_amt1', 'pay_amt2', 'pay_amt3', 'pay_amt4', 'pay_amt5', 'pay_amt6']\n",
    "\n",
    "# CLEANING/Pseudo FE: changing 'gender' column to male dummy variable\n",
    "df['sex'] = np.where(df.sex == 2, \n",
    "                     0, \n",
    "                     df.sex)\n",
    "df.rename(columns={'sex':'male'})"
   ]
  }
 ],
 "metadata": {
  "kernelspec": {
   "display_name": "Python 3",
   "language": "python",
   "name": "python3"
  },
  "language_info": {
   "codemirror_mode": {
    "name": "ipython",
    "version": 3
   },
   "file_extension": ".py",
   "mimetype": "text/x-python",
   "name": "python",
   "nbconvert_exporter": "python",
   "pygments_lexer": "ipython3",
   "version": "3.8.5"
  },
  "toc": {
   "base_numbering": 1,
   "nav_menu": {},
   "number_sections": true,
   "sideBar": true,
   "skip_h1_title": false,
   "title_cell": "Table of Contents",
   "title_sidebar": "Contents",
   "toc_cell": false,
   "toc_position": {},
   "toc_section_display": true,
   "toc_window_display": false
  }
 },
 "nbformat": 4,
 "nbformat_minor": 4
}
