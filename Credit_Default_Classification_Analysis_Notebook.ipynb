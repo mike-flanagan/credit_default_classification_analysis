{
 "cells": [
  {
   "cell_type": "markdown",
   "metadata": {},
   "source": [
    "### Setup"
   ]
  },
  {
   "cell_type": "markdown",
   "metadata": {
    "heading_collapsed": true
   },
   "source": [
    "#### Import Packages"
   ]
  },
  {
   "cell_type": "code",
   "execution_count": 9,
   "metadata": {
    "hidden": true
   },
   "outputs": [],
   "source": [
    "import pandas as pd\n",
    "import numpy as np\n",
    "from scipy import stats\n",
    "import seaborn as sns\n",
    "sns.set_theme()\n",
    "import pickle\n",
    "import matplotlib.pyplot as plt\n",
    "%matplotlib inline\n",
    "from statsmodels.formula.api import ols\n",
    "from sklearn.model_selection import cross_val_score\n",
    "from sklearn.tree import DecisionTreeClassifier\n",
    "from sklearn.neighbors import KNeighborsClassifier\n",
    "from sklearn.linear_model import LogisticRegression\n",
    "from sklearn.linear_model import LinearRegression\n",
    "from sklearn.feature_selection import SelectKBest, f_regression, mutual_info_regression\n",
    "from sklearn.feature_selection import RFECV\n",
    "from sklearn.model_selection import train_test_split\n",
    "from sklearn import metrics\n",
    "from sklearn.preprocessing import PolynomialFeatures\n",
    "from sklearn.preprocessing import StandardScaler\n",
    "\n",
    "pd.set_option('display.max_columns', None)\n",
    "pd.set_option('display.max_rows', 30)"
   ]
  },
  {
   "cell_type": "markdown",
   "metadata": {},
   "source": [
    "#### Reading in CSV to DataFrame"
   ]
  },
  {
   "cell_type": "code",
   "execution_count": 141,
   "metadata": {},
   "outputs": [],
   "source": [
    "df = pd.read_csv('data/training_data.csv', index_col = 0)"
   ]
  },
  {
   "cell_type": "code",
   "execution_count": 142,
   "metadata": {},
   "outputs": [
    {
     "data": {
      "text/html": [
       "<div>\n",
       "<style scoped>\n",
       "    .dataframe tbody tr th:only-of-type {\n",
       "        vertical-align: middle;\n",
       "    }\n",
       "\n",
       "    .dataframe tbody tr th {\n",
       "        vertical-align: top;\n",
       "    }\n",
       "\n",
       "    .dataframe thead th {\n",
       "        text-align: right;\n",
       "    }\n",
       "</style>\n",
       "<table border=\"1\" class=\"dataframe\">\n",
       "  <thead>\n",
       "    <tr style=\"text-align: right;\">\n",
       "      <th></th>\n",
       "      <th>X1</th>\n",
       "      <th>X2</th>\n",
       "      <th>X3</th>\n",
       "      <th>X4</th>\n",
       "      <th>X5</th>\n",
       "      <th>X6</th>\n",
       "      <th>X7</th>\n",
       "      <th>X8</th>\n",
       "      <th>X9</th>\n",
       "      <th>X10</th>\n",
       "      <th>X11</th>\n",
       "      <th>X12</th>\n",
       "      <th>X13</th>\n",
       "      <th>X14</th>\n",
       "      <th>X15</th>\n",
       "      <th>X16</th>\n",
       "      <th>X17</th>\n",
       "      <th>X18</th>\n",
       "      <th>X19</th>\n",
       "      <th>X20</th>\n",
       "      <th>X21</th>\n",
       "      <th>X22</th>\n",
       "      <th>X23</th>\n",
       "      <th>Y</th>\n",
       "    </tr>\n",
       "  </thead>\n",
       "  <tbody>\n",
       "    <tr>\n",
       "      <th>28835</th>\n",
       "      <td>220000</td>\n",
       "      <td>2</td>\n",
       "      <td>1</td>\n",
       "      <td>2</td>\n",
       "      <td>36</td>\n",
       "      <td>0</td>\n",
       "      <td>0</td>\n",
       "      <td>0</td>\n",
       "      <td>0</td>\n",
       "      <td>0</td>\n",
       "      <td>0</td>\n",
       "      <td>222598</td>\n",
       "      <td>222168</td>\n",
       "      <td>217900</td>\n",
       "      <td>221193</td>\n",
       "      <td>181859</td>\n",
       "      <td>184605</td>\n",
       "      <td>10000</td>\n",
       "      <td>8018</td>\n",
       "      <td>10121</td>\n",
       "      <td>6006</td>\n",
       "      <td>10987</td>\n",
       "      <td>143779</td>\n",
       "      <td>1</td>\n",
       "    </tr>\n",
       "    <tr>\n",
       "      <th>25329</th>\n",
       "      <td>200000</td>\n",
       "      <td>2</td>\n",
       "      <td>3</td>\n",
       "      <td>2</td>\n",
       "      <td>29</td>\n",
       "      <td>-1</td>\n",
       "      <td>-1</td>\n",
       "      <td>-1</td>\n",
       "      <td>-1</td>\n",
       "      <td>-1</td>\n",
       "      <td>-1</td>\n",
       "      <td>326</td>\n",
       "      <td>326</td>\n",
       "      <td>326</td>\n",
       "      <td>326</td>\n",
       "      <td>326</td>\n",
       "      <td>326</td>\n",
       "      <td>326</td>\n",
       "      <td>326</td>\n",
       "      <td>326</td>\n",
       "      <td>326</td>\n",
       "      <td>326</td>\n",
       "      <td>326</td>\n",
       "      <td>0</td>\n",
       "    </tr>\n",
       "    <tr>\n",
       "      <th>18894</th>\n",
       "      <td>180000</td>\n",
       "      <td>2</td>\n",
       "      <td>1</td>\n",
       "      <td>2</td>\n",
       "      <td>27</td>\n",
       "      <td>-2</td>\n",
       "      <td>-2</td>\n",
       "      <td>-2</td>\n",
       "      <td>-2</td>\n",
       "      <td>-2</td>\n",
       "      <td>-2</td>\n",
       "      <td>0</td>\n",
       "      <td>0</td>\n",
       "      <td>0</td>\n",
       "      <td>0</td>\n",
       "      <td>0</td>\n",
       "      <td>0</td>\n",
       "      <td>0</td>\n",
       "      <td>0</td>\n",
       "      <td>0</td>\n",
       "      <td>0</td>\n",
       "      <td>0</td>\n",
       "      <td>0</td>\n",
       "      <td>0</td>\n",
       "    </tr>\n",
       "    <tr>\n",
       "      <th>690</th>\n",
       "      <td>80000</td>\n",
       "      <td>1</td>\n",
       "      <td>2</td>\n",
       "      <td>2</td>\n",
       "      <td>32</td>\n",
       "      <td>0</td>\n",
       "      <td>0</td>\n",
       "      <td>0</td>\n",
       "      <td>0</td>\n",
       "      <td>0</td>\n",
       "      <td>0</td>\n",
       "      <td>51372</td>\n",
       "      <td>51872</td>\n",
       "      <td>47593</td>\n",
       "      <td>43882</td>\n",
       "      <td>42256</td>\n",
       "      <td>42527</td>\n",
       "      <td>1853</td>\n",
       "      <td>1700</td>\n",
       "      <td>1522</td>\n",
       "      <td>1548</td>\n",
       "      <td>1488</td>\n",
       "      <td>1500</td>\n",
       "      <td>0</td>\n",
       "    </tr>\n",
       "    <tr>\n",
       "      <th>6239</th>\n",
       "      <td>10000</td>\n",
       "      <td>1</td>\n",
       "      <td>2</td>\n",
       "      <td>2</td>\n",
       "      <td>27</td>\n",
       "      <td>0</td>\n",
       "      <td>0</td>\n",
       "      <td>0</td>\n",
       "      <td>0</td>\n",
       "      <td>0</td>\n",
       "      <td>0</td>\n",
       "      <td>8257</td>\n",
       "      <td>7995</td>\n",
       "      <td>4878</td>\n",
       "      <td>5444</td>\n",
       "      <td>2639</td>\n",
       "      <td>2697</td>\n",
       "      <td>2000</td>\n",
       "      <td>1100</td>\n",
       "      <td>600</td>\n",
       "      <td>300</td>\n",
       "      <td>300</td>\n",
       "      <td>1000</td>\n",
       "      <td>1</td>\n",
       "    </tr>\n",
       "  </tbody>\n",
       "</table>\n",
       "</div>"
      ],
      "text/plain": [
       "           X1 X2 X3 X4  X5  X6  X7  X8  X9 X10 X11     X12     X13     X14  \\\n",
       "28835  220000  2  1  2  36   0   0   0   0   0   0  222598  222168  217900   \n",
       "25329  200000  2  3  2  29  -1  -1  -1  -1  -1  -1     326     326     326   \n",
       "18894  180000  2  1  2  27  -2  -2  -2  -2  -2  -2       0       0       0   \n",
       "690     80000  1  2  2  32   0   0   0   0   0   0   51372   51872   47593   \n",
       "6239    10000  1  2  2  27   0   0   0   0   0   0    8257    7995    4878   \n",
       "\n",
       "          X15     X16     X17    X18   X19    X20   X21    X22     X23  Y  \n",
       "28835  221193  181859  184605  10000  8018  10121  6006  10987  143779  1  \n",
       "25329     326     326     326    326   326    326   326    326     326  0  \n",
       "18894       0       0       0      0     0      0     0      0       0  0  \n",
       "690     43882   42256   42527   1853  1700   1522  1548   1488    1500  0  \n",
       "6239     5444    2639    2697   2000  1100    600   300    300    1000  1  "
      ]
     },
     "execution_count": 142,
     "metadata": {},
     "output_type": "execute_result"
    }
   ],
   "source": [
    "df.head()"
   ]
  },
  {
   "cell_type": "markdown",
   "metadata": {},
   "source": [
    "## Data Cleaning"
   ]
  },
  {
   "cell_type": "markdown",
   "metadata": {},
   "source": [
    "There is a row that appeared to have column header text as values, which brings me to my first objective: remove that row and convert the remaining values to numeric. I set the new column names to lowercase as well, to ease dataframe manipulation.\n",
    "\n",
    "- Later, I may want to convert the longer numeric currency values in the several `bill_amt` and `pay_amt` features to float. I can't think of a reason to *need* to do this, but it's a bit peculiar working with currencies as integers. They should be treated as continuous values.\n",
    "  - Notice that the `limit_bal` column also has currency values. These should be treated as categorical, for reasons which I elaborate further below.\n",
    "- I will be vigilant in searching for any values that don't make sense, and impute values appropriately.  \n",
    "- The holdout dataset has been given the same column headers, excluding the target `df['y']`.  "
   ]
  },
  {
   "cell_type": "code",
   "execution_count": 143,
   "metadata": {},
   "outputs": [],
   "source": [
    "# CLEANING: changing row \n",
    "df.columns = df.loc['ID'] # isolating the row of text that should have been set to column headers\n",
    "df.columns = df.columns.str.lower() # no need to hit shift to reference columns. so much better\n",
    "df.rename(columns={'default payment next month': 'y'}, inplace=True) # renaming long column name for our target back to y\n",
    "df.drop(index='ID', inplace=True) # dropping header row\n",
    "\n",
    "# CLEANING: changing column datatypes to numeric\n",
    "df[\n",
    "    ['limit_bal', 'sex', 'education', 'marriage', 'age', 'pay_0', 'pay_2', 'pay_3', 'pay_4', 'pay_5', 'pay_6', 'bill_amt1', 'bill_amt2', 'bill_amt3', 'bill_amt4', 'bill_amt5', 'bill_amt6', 'pay_amt1', 'pay_amt2', 'pay_amt3', 'pay_amt4', 'pay_amt5', 'pay_amt6', 'y']\n",
    "] = df[\n",
    "    ['limit_bal', 'sex', 'education', 'marriage', 'age', 'pay_0', 'pay_2', 'pay_3', 'pay_4', 'pay_5', 'pay_6', 'bill_amt1', 'bill_amt2', 'bill_amt3', 'bill_amt4', 'bill_amt5', 'bill_amt6', 'pay_amt1', 'pay_amt2', 'pay_amt3', 'pay_amt4', 'pay_amt5', 'pay_amt6', 'y']\n",
    "].apply(pd.to_numeric) \n",
    "\n",
    "# CLEANING: capping balance limits to 500,000\n",
    "df['limit_bal'] = np.where(df.limit_bal > 500000,\n",
    "                           500000,\n",
    "                           df.limit_bal)\n",
    "\n",
    "# CLEANING/Pseudo FE: changing 'gender' column to male dummy variable\n",
    "df['sex'] = np.where(df.sex == 2, \n",
    "                     0, \n",
    "                     df.sex)\n",
    "\n",
    "# CLEANING: Changing cleaned column name for clarity\n",
    "df.rename(columns={'sex':'male'}, inplace=True)\n",
    "\n",
    "# FE: special dummying education in to three distinct features\n",
    "df['hs_edu'] = np.where(((df.education == 1) |\n",
    "                         (df.education == 2) |\n",
    "                         (df.education == 3)),\n",
    "                           1,\n",
    "                           0)\n",
    "\n",
    "df['uni_edu'] = np.where(((df.education == 1) |\n",
    "                          (df.education == 2)),\n",
    "                            1,\n",
    "                            0)\n",
    "\n",
    "df['grad_edu'] = np.where(df.education == 1,\n",
    "                           1,\n",
    "                           0)\n",
    "\n",
    "# CLEANING: dropping education now that categories have been managed\n",
    "df.drop(columns='education', inplace=True)\n",
    "\n",
    "# CLEANING: combining all non-married values, making 'marriage' a binary category\n",
    "df['marriage'] = np.where(df.marriage == 1,\n",
    "                           1,\n",
    "                           0)"
   ]
  },
  {
   "cell_type": "code",
   "execution_count": 102,
   "metadata": {},
   "outputs": [],
   "source": [
    "# Setting variables to be used in the models\n",
    "X = df.drop('y', axis = 1) # grabs dataset features excluding our target.\n",
    "y = df['y'] # y is the column we're trying to predict, our 'target'"
   ]
  },
  {
   "cell_type": "code",
   "execution_count": 105,
   "metadata": {
    "scrolled": true
   },
   "outputs": [
    {
     "data": {
      "text/plain": [
       "0                             17471\n",
       "1                              5028\n",
       "default payment next month        1\n",
       "Name: y, dtype: int64"
      ]
     },
     "execution_count": 105,
     "metadata": {},
     "output_type": "execute_result"
    }
   ],
   "source": [
    "df.y.value_counts()"
   ]
  },
  {
   "cell_type": "markdown",
   "metadata": {},
   "source": [
    "## EDA"
   ]
  },
  {
   "cell_type": "markdown",
   "metadata": {},
   "source": [
    "- handling null values\n",
    "- handling categorical variables\n",
    "- removing unimportant columns \n",
    "- removing outliers\n",
    "- identify opportunities to create new features."
   ]
  },
  {
   "cell_type": "markdown",
   "metadata": {},
   "source": [
    "Our target `y` has a mean of 0.223477, revealing that a majority of credit holders in the dataset have not defaulted. The ratio of those who have defaulted to those who have not is roughly $\\frac{1}{4.5}$. This should not be significant enough to cause issues related to class imbalance.\n",
    "\n",
    "It is difficult to understand the magnitude of each individual's credit status when values are in a foreign currency. Below I have created a new dataframe to compare the values of NT to USD, strictly for my own reference. Actual values of the training dataframe will not be changed. \n",
    "  \n",
    "Fortunately, there are no null values to manage in the dataset. "
   ]
  },
  {
   "cell_type": "code",
   "execution_count": 176,
   "metadata": {
    "collapsed": true
   },
   "outputs": [
    {
     "name": "stdout",
     "output_type": "stream",
     "text": [
      "<class 'pandas.core.frame.DataFrame'>\n",
      "Index: 22499 entries, 28835 to 7624\n",
      "Data columns (total 24 columns):\n",
      " #   Column     Non-Null Count  Dtype\n",
      "---  ------     --------------  -----\n",
      " 0   limit_bal  22499 non-null  int64\n",
      " 1   sex        22499 non-null  int64\n",
      " 2   education  22499 non-null  int64\n",
      " 3   marriage   22499 non-null  int64\n",
      " 4   age        22499 non-null  int64\n",
      " 5   pay_0      22499 non-null  int64\n",
      " 6   pay_2      22499 non-null  int64\n",
      " 7   pay_3      22499 non-null  int64\n",
      " 8   pay_4      22499 non-null  int64\n",
      " 9   pay_5      22499 non-null  int64\n",
      " 10  pay_6      22499 non-null  int64\n",
      " 11  bill_amt1  22499 non-null  int64\n",
      " 12  bill_amt2  22499 non-null  int64\n",
      " 13  bill_amt3  22499 non-null  int64\n",
      " 14  bill_amt4  22499 non-null  int64\n",
      " 15  bill_amt5  22499 non-null  int64\n",
      " 16  bill_amt6  22499 non-null  int64\n",
      " 17  pay_amt1   22499 non-null  int64\n",
      " 18  pay_amt2   22499 non-null  int64\n",
      " 19  pay_amt3   22499 non-null  int64\n",
      " 20  pay_amt4   22499 non-null  int64\n",
      " 21  pay_amt5   22499 non-null  int64\n",
      " 22  pay_amt6   22499 non-null  int64\n",
      " 23  y          22499 non-null  int64\n",
      "dtypes: int64(24)\n",
      "memory usage: 4.9+ MB\n"
     ]
    }
   ],
   "source": [
    "df.info()"
   ]
  },
  {
   "cell_type": "code",
   "execution_count": 294,
   "metadata": {
    "collapsed": true
   },
   "outputs": [
    {
     "data": {
      "text/html": [
       "<div>\n",
       "<style scoped>\n",
       "    .dataframe tbody tr th:only-of-type {\n",
       "        vertical-align: middle;\n",
       "    }\n",
       "\n",
       "    .dataframe tbody tr th {\n",
       "        vertical-align: top;\n",
       "    }\n",
       "\n",
       "    .dataframe thead th {\n",
       "        text-align: right;\n",
       "    }\n",
       "</style>\n",
       "<table border=\"1\" class=\"dataframe\">\n",
       "  <thead>\n",
       "    <tr style=\"text-align: right;\">\n",
       "      <th>ID</th>\n",
       "      <th>limit_bal</th>\n",
       "      <th>male</th>\n",
       "      <th>marriage</th>\n",
       "      <th>age</th>\n",
       "      <th>pay_0</th>\n",
       "      <th>pay_2</th>\n",
       "      <th>pay_3</th>\n",
       "      <th>pay_4</th>\n",
       "      <th>pay_5</th>\n",
       "      <th>pay_6</th>\n",
       "      <th>bill_amt1</th>\n",
       "      <th>bill_amt2</th>\n",
       "      <th>bill_amt3</th>\n",
       "      <th>bill_amt4</th>\n",
       "      <th>bill_amt5</th>\n",
       "      <th>bill_amt6</th>\n",
       "      <th>pay_amt1</th>\n",
       "      <th>pay_amt2</th>\n",
       "      <th>pay_amt3</th>\n",
       "      <th>pay_amt4</th>\n",
       "      <th>pay_amt5</th>\n",
       "      <th>pay_amt6</th>\n",
       "      <th>y</th>\n",
       "      <th>hs_edu</th>\n",
       "      <th>uni_edu</th>\n",
       "      <th>grad_edu</th>\n",
       "    </tr>\n",
       "  </thead>\n",
       "  <tbody>\n",
       "    <tr>\n",
       "      <th>count</th>\n",
       "      <td>22499.000000</td>\n",
       "      <td>22499.000000</td>\n",
       "      <td>22499.000000</td>\n",
       "      <td>22499.000000</td>\n",
       "      <td>22499.000000</td>\n",
       "      <td>22499.000000</td>\n",
       "      <td>22499.000000</td>\n",
       "      <td>22499.000000</td>\n",
       "      <td>22499.000000</td>\n",
       "      <td>22499.000000</td>\n",
       "      <td>22499.000000</td>\n",
       "      <td>22499.000000</td>\n",
       "      <td>2.249900e+04</td>\n",
       "      <td>22499.000000</td>\n",
       "      <td>22499.000000</td>\n",
       "      <td>22499.000000</td>\n",
       "      <td>22499.000000</td>\n",
       "      <td>2.249900e+04</td>\n",
       "      <td>22499.000000</td>\n",
       "      <td>22499.000000</td>\n",
       "      <td>22499.000000</td>\n",
       "      <td>22499.000000</td>\n",
       "      <td>22499.000000</td>\n",
       "      <td>22499.000000</td>\n",
       "      <td>22499.00000</td>\n",
       "      <td>22499.000000</td>\n",
       "    </tr>\n",
       "    <tr>\n",
       "      <th>mean</th>\n",
       "      <td>166382.047202</td>\n",
       "      <td>0.396773</td>\n",
       "      <td>0.453131</td>\n",
       "      <td>35.447931</td>\n",
       "      <td>0.175786</td>\n",
       "      <td>-0.128806</td>\n",
       "      <td>-0.160185</td>\n",
       "      <td>-0.214587</td>\n",
       "      <td>-0.259700</td>\n",
       "      <td>-0.287613</td>\n",
       "      <td>51455.869416</td>\n",
       "      <td>49385.313214</td>\n",
       "      <td>4.704213e+04</td>\n",
       "      <td>43329.149562</td>\n",
       "      <td>40306.373039</td>\n",
       "      <td>38955.000356</td>\n",
       "      <td>5627.914796</td>\n",
       "      <td>5.964393e+03</td>\n",
       "      <td>5258.912307</td>\n",
       "      <td>4792.971777</td>\n",
       "      <td>4865.656029</td>\n",
       "      <td>5247.279301</td>\n",
       "      <td>0.223477</td>\n",
       "      <td>0.984399</td>\n",
       "      <td>0.81937</td>\n",
       "      <td>0.351971</td>\n",
       "    </tr>\n",
       "    <tr>\n",
       "      <th>std</th>\n",
       "      <td>127707.427930</td>\n",
       "      <td>0.489239</td>\n",
       "      <td>0.497810</td>\n",
       "      <td>9.237634</td>\n",
       "      <td>1.020280</td>\n",
       "      <td>1.197954</td>\n",
       "      <td>1.198880</td>\n",
       "      <td>1.174824</td>\n",
       "      <td>1.139984</td>\n",
       "      <td>1.154249</td>\n",
       "      <td>74470.257248</td>\n",
       "      <td>71953.814345</td>\n",
       "      <td>6.991792e+04</td>\n",
       "      <td>64607.088483</td>\n",
       "      <td>60918.993067</td>\n",
       "      <td>59773.144959</td>\n",
       "      <td>16628.162287</td>\n",
       "      <td>2.444370e+04</td>\n",
       "      <td>18153.554633</td>\n",
       "      <td>15872.858180</td>\n",
       "      <td>15507.449610</td>\n",
       "      <td>17892.327398</td>\n",
       "      <td>0.416584</td>\n",
       "      <td>0.123927</td>\n",
       "      <td>0.38472</td>\n",
       "      <td>0.477596</td>\n",
       "    </tr>\n",
       "    <tr>\n",
       "      <th>min</th>\n",
       "      <td>10000.000000</td>\n",
       "      <td>0.000000</td>\n",
       "      <td>0.000000</td>\n",
       "      <td>21.000000</td>\n",
       "      <td>-2.000000</td>\n",
       "      <td>-2.000000</td>\n",
       "      <td>-2.000000</td>\n",
       "      <td>-2.000000</td>\n",
       "      <td>-2.000000</td>\n",
       "      <td>-2.000000</td>\n",
       "      <td>-165580.000000</td>\n",
       "      <td>-69777.000000</td>\n",
       "      <td>-1.572640e+05</td>\n",
       "      <td>-81334.000000</td>\n",
       "      <td>-81334.000000</td>\n",
       "      <td>-339603.000000</td>\n",
       "      <td>0.000000</td>\n",
       "      <td>0.000000e+00</td>\n",
       "      <td>0.000000</td>\n",
       "      <td>0.000000</td>\n",
       "      <td>0.000000</td>\n",
       "      <td>0.000000</td>\n",
       "      <td>0.000000</td>\n",
       "      <td>0.000000</td>\n",
       "      <td>0.00000</td>\n",
       "      <td>0.000000</td>\n",
       "    </tr>\n",
       "    <tr>\n",
       "      <th>25%</th>\n",
       "      <td>50000.000000</td>\n",
       "      <td>0.000000</td>\n",
       "      <td>0.000000</td>\n",
       "      <td>28.000000</td>\n",
       "      <td>0.000000</td>\n",
       "      <td>-1.000000</td>\n",
       "      <td>-1.000000</td>\n",
       "      <td>-1.000000</td>\n",
       "      <td>-1.000000</td>\n",
       "      <td>-1.000000</td>\n",
       "      <td>3506.000000</td>\n",
       "      <td>2975.000000</td>\n",
       "      <td>2.611500e+03</td>\n",
       "      <td>2319.500000</td>\n",
       "      <td>1732.500000</td>\n",
       "      <td>1230.000000</td>\n",
       "      <td>1000.000000</td>\n",
       "      <td>8.290000e+02</td>\n",
       "      <td>396.000000</td>\n",
       "      <td>284.000000</td>\n",
       "      <td>246.500000</td>\n",
       "      <td>100.000000</td>\n",
       "      <td>0.000000</td>\n",
       "      <td>1.000000</td>\n",
       "      <td>1.00000</td>\n",
       "      <td>0.000000</td>\n",
       "    </tr>\n",
       "    <tr>\n",
       "      <th>50%</th>\n",
       "      <td>140000.000000</td>\n",
       "      <td>0.000000</td>\n",
       "      <td>0.000000</td>\n",
       "      <td>34.000000</td>\n",
       "      <td>0.000000</td>\n",
       "      <td>0.000000</td>\n",
       "      <td>0.000000</td>\n",
       "      <td>0.000000</td>\n",
       "      <td>0.000000</td>\n",
       "      <td>0.000000</td>\n",
       "      <td>22387.000000</td>\n",
       "      <td>21145.000000</td>\n",
       "      <td>2.005300e+04</td>\n",
       "      <td>19048.000000</td>\n",
       "      <td>18050.000000</td>\n",
       "      <td>16924.000000</td>\n",
       "      <td>2100.000000</td>\n",
       "      <td>2.004000e+03</td>\n",
       "      <td>1800.000000</td>\n",
       "      <td>1500.000000</td>\n",
       "      <td>1500.000000</td>\n",
       "      <td>1500.000000</td>\n",
       "      <td>0.000000</td>\n",
       "      <td>1.000000</td>\n",
       "      <td>1.00000</td>\n",
       "      <td>0.000000</td>\n",
       "    </tr>\n",
       "    <tr>\n",
       "      <th>75%</th>\n",
       "      <td>240000.000000</td>\n",
       "      <td>1.000000</td>\n",
       "      <td>1.000000</td>\n",
       "      <td>41.000000</td>\n",
       "      <td>0.000000</td>\n",
       "      <td>0.000000</td>\n",
       "      <td>0.000000</td>\n",
       "      <td>0.000000</td>\n",
       "      <td>0.000000</td>\n",
       "      <td>0.000000</td>\n",
       "      <td>66988.500000</td>\n",
       "      <td>63755.000000</td>\n",
       "      <td>6.016100e+04</td>\n",
       "      <td>54494.500000</td>\n",
       "      <td>50196.000000</td>\n",
       "      <td>49250.000000</td>\n",
       "      <td>5002.000000</td>\n",
       "      <td>5.000000e+03</td>\n",
       "      <td>4500.000000</td>\n",
       "      <td>4000.000000</td>\n",
       "      <td>4068.500000</td>\n",
       "      <td>4000.000000</td>\n",
       "      <td>0.000000</td>\n",
       "      <td>1.000000</td>\n",
       "      <td>1.00000</td>\n",
       "      <td>1.000000</td>\n",
       "    </tr>\n",
       "    <tr>\n",
       "      <th>max</th>\n",
       "      <td>500000.000000</td>\n",
       "      <td>1.000000</td>\n",
       "      <td>1.000000</td>\n",
       "      <td>75.000000</td>\n",
       "      <td>8.000000</td>\n",
       "      <td>8.000000</td>\n",
       "      <td>8.000000</td>\n",
       "      <td>8.000000</td>\n",
       "      <td>8.000000</td>\n",
       "      <td>8.000000</td>\n",
       "      <td>964511.000000</td>\n",
       "      <td>983931.000000</td>\n",
       "      <td>1.664089e+06</td>\n",
       "      <td>891586.000000</td>\n",
       "      <td>927171.000000</td>\n",
       "      <td>961664.000000</td>\n",
       "      <td>873552.000000</td>\n",
       "      <td>1.684259e+06</td>\n",
       "      <td>896040.000000</td>\n",
       "      <td>621000.000000</td>\n",
       "      <td>388071.000000</td>\n",
       "      <td>528666.000000</td>\n",
       "      <td>1.000000</td>\n",
       "      <td>1.000000</td>\n",
       "      <td>1.00000</td>\n",
       "      <td>1.000000</td>\n",
       "    </tr>\n",
       "  </tbody>\n",
       "</table>\n",
       "</div>"
      ],
      "text/plain": [
       "ID         limit_bal          male      marriage           age         pay_0  \\\n",
       "count   22499.000000  22499.000000  22499.000000  22499.000000  22499.000000   \n",
       "mean   166382.047202      0.396773      0.453131     35.447931      0.175786   \n",
       "std    127707.427930      0.489239      0.497810      9.237634      1.020280   \n",
       "min     10000.000000      0.000000      0.000000     21.000000     -2.000000   \n",
       "25%     50000.000000      0.000000      0.000000     28.000000      0.000000   \n",
       "50%    140000.000000      0.000000      0.000000     34.000000      0.000000   \n",
       "75%    240000.000000      1.000000      1.000000     41.000000      0.000000   \n",
       "max    500000.000000      1.000000      1.000000     75.000000      8.000000   \n",
       "\n",
       "ID            pay_2         pay_3         pay_4         pay_5         pay_6  \\\n",
       "count  22499.000000  22499.000000  22499.000000  22499.000000  22499.000000   \n",
       "mean      -0.128806     -0.160185     -0.214587     -0.259700     -0.287613   \n",
       "std        1.197954      1.198880      1.174824      1.139984      1.154249   \n",
       "min       -2.000000     -2.000000     -2.000000     -2.000000     -2.000000   \n",
       "25%       -1.000000     -1.000000     -1.000000     -1.000000     -1.000000   \n",
       "50%        0.000000      0.000000      0.000000      0.000000      0.000000   \n",
       "75%        0.000000      0.000000      0.000000      0.000000      0.000000   \n",
       "max        8.000000      8.000000      8.000000      8.000000      8.000000   \n",
       "\n",
       "ID         bill_amt1      bill_amt2     bill_amt3      bill_amt4  \\\n",
       "count   22499.000000   22499.000000  2.249900e+04   22499.000000   \n",
       "mean    51455.869416   49385.313214  4.704213e+04   43329.149562   \n",
       "std     74470.257248   71953.814345  6.991792e+04   64607.088483   \n",
       "min   -165580.000000  -69777.000000 -1.572640e+05  -81334.000000   \n",
       "25%      3506.000000    2975.000000  2.611500e+03    2319.500000   \n",
       "50%     22387.000000   21145.000000  2.005300e+04   19048.000000   \n",
       "75%     66988.500000   63755.000000  6.016100e+04   54494.500000   \n",
       "max    964511.000000  983931.000000  1.664089e+06  891586.000000   \n",
       "\n",
       "ID         bill_amt5      bill_amt6       pay_amt1      pay_amt2  \\\n",
       "count   22499.000000   22499.000000   22499.000000  2.249900e+04   \n",
       "mean    40306.373039   38955.000356    5627.914796  5.964393e+03   \n",
       "std     60918.993067   59773.144959   16628.162287  2.444370e+04   \n",
       "min    -81334.000000 -339603.000000       0.000000  0.000000e+00   \n",
       "25%      1732.500000    1230.000000    1000.000000  8.290000e+02   \n",
       "50%     18050.000000   16924.000000    2100.000000  2.004000e+03   \n",
       "75%     50196.000000   49250.000000    5002.000000  5.000000e+03   \n",
       "max    927171.000000  961664.000000  873552.000000  1.684259e+06   \n",
       "\n",
       "ID          pay_amt3       pay_amt4       pay_amt5       pay_amt6  \\\n",
       "count   22499.000000   22499.000000   22499.000000   22499.000000   \n",
       "mean     5258.912307    4792.971777    4865.656029    5247.279301   \n",
       "std     18153.554633   15872.858180   15507.449610   17892.327398   \n",
       "min         0.000000       0.000000       0.000000       0.000000   \n",
       "25%       396.000000     284.000000     246.500000     100.000000   \n",
       "50%      1800.000000    1500.000000    1500.000000    1500.000000   \n",
       "75%      4500.000000    4000.000000    4068.500000    4000.000000   \n",
       "max    896040.000000  621000.000000  388071.000000  528666.000000   \n",
       "\n",
       "ID                y        hs_edu      uni_edu      grad_edu  \n",
       "count  22499.000000  22499.000000  22499.00000  22499.000000  \n",
       "mean       0.223477      0.984399      0.81937      0.351971  \n",
       "std        0.416584      0.123927      0.38472      0.477596  \n",
       "min        0.000000      0.000000      0.00000      0.000000  \n",
       "25%        0.000000      1.000000      1.00000      0.000000  \n",
       "50%        0.000000      1.000000      1.00000      0.000000  \n",
       "75%        0.000000      1.000000      1.00000      1.000000  \n",
       "max        1.000000      1.000000      1.00000      1.000000  "
      ]
     },
     "execution_count": 294,
     "metadata": {},
     "output_type": "execute_result"
    }
   ],
   "source": [
    "df.describe()"
   ]
  },
  {
   "cell_type": "code",
   "execution_count": 111,
   "metadata": {},
   "outputs": [
    {
     "data": {
      "text/html": [
       "<div>\n",
       "<style scoped>\n",
       "    .dataframe tbody tr th:only-of-type {\n",
       "        vertical-align: middle;\n",
       "    }\n",
       "\n",
       "    .dataframe tbody tr th {\n",
       "        vertical-align: top;\n",
       "    }\n",
       "\n",
       "    .dataframe thead th {\n",
       "        text-align: right;\n",
       "    }\n",
       "</style>\n",
       "<table border=\"1\" class=\"dataframe\">\n",
       "  <thead>\n",
       "    <tr style=\"text-align: right;\">\n",
       "      <th></th>\n",
       "      <th>1</th>\n",
       "      <th>2</th>\n",
       "      <th>3</th>\n",
       "      <th>4</th>\n",
       "      <th>5</th>\n",
       "      <th>6</th>\n",
       "    </tr>\n",
       "    <tr>\n",
       "      <th>0</th>\n",
       "      <th></th>\n",
       "      <th></th>\n",
       "      <th></th>\n",
       "      <th></th>\n",
       "      <th></th>\n",
       "      <th></th>\n",
       "    </tr>\n",
       "  </thead>\n",
       "  <tbody>\n",
       "    <tr>\n",
       "      <th>NT</th>\n",
       "      <td>10000.00</td>\n",
       "      <td>120000.00</td>\n",
       "      <td>180000.00</td>\n",
       "      <td>200000.00</td>\n",
       "      <td>220000.00</td>\n",
       "      <td>240000.00</td>\n",
       "    </tr>\n",
       "    <tr>\n",
       "      <th>USD</th>\n",
       "      <td>352.14</td>\n",
       "      <td>4225.71</td>\n",
       "      <td>6338.57</td>\n",
       "      <td>7042.85</td>\n",
       "      <td>7747.14</td>\n",
       "      <td>8451.42</td>\n",
       "    </tr>\n",
       "  </tbody>\n",
       "</table>\n",
       "</div>"
      ],
      "text/plain": [
       "            1          2          3          4          5          6\n",
       "0                                                                   \n",
       "NT   10000.00  120000.00  180000.00  200000.00  220000.00  240000.00\n",
       "USD    352.14    4225.71    6338.57    7042.85    7747.14    8451.42"
      ]
     },
     "execution_count": 111,
     "metadata": {},
     "output_type": "execute_result"
    }
   ],
   "source": [
    "currencies = [\n",
    "    ['NT', 10000.00, 120000.00, 180000.00, 200000.00, 220000.00, 240000.00], \n",
    "    ['USD', 352.14, 4225.71, 6338.57, 7042.85, 7747.14, 8451.42]\n",
    "]\n",
    "money_chart = pd.DataFrame(currencies)\n",
    "money_chart.set_index(0)"
   ]
  },
  {
   "cell_type": "markdown",
   "metadata": {},
   "source": [
    "That translates to roughly:  \n",
    "- 28.4 NT = 1 USD"
   ]
  },
  {
   "cell_type": "markdown",
   "metadata": {},
   "source": [
    "Let's take a look at how the features correlate with each other."
   ]
  },
  {
   "cell_type": "code",
   "execution_count": 278,
   "metadata": {},
   "outputs": [
    {
     "data": {
      "image/png": "[encoded data removed]",
      "text/plain": [
       "<Figure size 720x576 with 2 Axes>"
      ]
     },
     "metadata": {
      "needs_background": "light"
     },
     "output_type": "display_data"
    }
   ],
   "source": [
    "# Creating a correlation matrix\n",
    "corr_matrix = df.corr()\n",
    "\n",
    "# Trimming the fat\n",
    "# df_slim = df.drop(columns=[])\n",
    "# corr_matrix_slim = df_slim.corr()\n",
    "\n",
    "# Creating a mask to restrict heatmap to half, improve readability by not repeating correlation values\n",
    "mask = np.triu(np.ones_like(corr_matrix, dtype=bool))\n",
    "\n",
    "# Plotting correlation matrix as seaborn heatmap\n",
    "fig, ax = plt.subplots(figsize=(10, 8))\n",
    "ax.set_title('Correlation Between Features of Dataset', size=18)\n",
    "\n",
    "sns.heatmap(corr_matrix, mask=mask, center=0, annot=True,\n",
    "             fmt='.2f', square=True, cmap='ocean', annot_kws={\"size\": 7});"
   ]
  },
  {
   "cell_type": "markdown",
   "metadata": {},
   "source": [
    "It's difficult to notice relations between predictors as several predictors fall within a certain subcategory of another, but it's interesting to see that a person's gender and age seem to have no more than a negligible impact on their likelihood to default. Also, I would have imagined that marital status would have had a larger negative correlation with sex. "
   ]
  },
  {
   "cell_type": "markdown",
   "metadata": {},
   "source": [
    "#### X1 — limit_bal"
   ]
  },
  {
   "cell_type": "markdown",
   "metadata": {},
   "source": [
    "    Amount of the given credit (NT dollar): it includes both the individual consumer credit and his/her family (supplementary) credit"
   ]
  },
  {
   "cell_type": "markdown",
   "metadata": {},
   "source": [
    "Values range between 10,000 and 1,000,000 ($\\$$352 - $\\$$35,211 USD). These credit balances appear to be akin to personal credit card limits. Were the dataset to include other forms of debt, such as mortgages and business credit cards, the values would range much higher.  \n",
    "  \n",
    "Also worth noting is that despite there being just about 25,000 rows of data, there are only 80 different values for balance limits. This tempts me to dummy each unique value as being its own balance limit group, rather than treating balance limits as a continuous variable.  \n",
    "  \n",
    "Limits tend to be set near a nice, round number, as we can see where distribution of balance limits spike. The highest *common* credit limit is 500,000, which has a count of 545. There are 154 outliers beyond that, which I will cap down to 500,000. After cleaning, there are 52 unique values for balance limits.  "
   ]
  },
  {
   "cell_type": "code",
   "execution_count": 247,
   "metadata": {
    "collapsed": true
   },
   "outputs": [
    {
     "data": {
      "text/plain": [
       "1000000"
      ]
     },
     "execution_count": 247,
     "metadata": {},
     "output_type": "execute_result"
    }
   ],
   "source": [
    "df.limit_bal.max()"
   ]
  },
  {
   "cell_type": "code",
   "execution_count": 250,
   "metadata": {
    "collapsed": true
   },
   "outputs": [
    {
     "data": {
      "text/plain": [
       "10000"
      ]
     },
     "execution_count": 250,
     "metadata": {},
     "output_type": "execute_result"
    }
   ],
   "source": [
    "df.limit_bal.min()"
   ]
  },
  {
   "cell_type": "code",
   "execution_count": 255,
   "metadata": {
    "collapsed": true
   },
   "outputs": [
    {
     "data": {
      "text/plain": [
       "8444       10000\n",
       "9347       10000\n",
       "1245       10000\n",
       "4495       10000\n",
       "14507      10000\n",
       "          ...   \n",
       "10090     750000\n",
       "24321     780000\n",
       "28716     780000\n",
       "14920     800000\n",
       "2198     1000000\n",
       "Name: limit_bal, Length: 22499, dtype: int64"
      ]
     },
     "execution_count": 255,
     "metadata": {},
     "output_type": "execute_result"
    }
   ],
   "source": [
    "df.limit_bal.sort_values()"
   ]
  },
  {
   "cell_type": "code",
   "execution_count": 274,
   "metadata": {
    "collapsed": true
   },
   "outputs": [
    {
     "data": {
      "text/plain": [
       "327680       1\n",
       "16000        2\n",
       "490000      46\n",
       "370000      48\n",
       "440000      56\n",
       "          ... \n",
       "200000    1134\n",
       "80000     1210\n",
       "30000     1223\n",
       "20000     1488\n",
       "50000     2534\n",
       "Name: limit_bal, Length: 52, dtype: int64"
      ]
     },
     "execution_count": 274,
     "metadata": {},
     "output_type": "execute_result"
    }
   ],
   "source": [
    "df.limit_bal.value_counts().sort_values()"
   ]
  },
  {
   "cell_type": "code",
   "execution_count": 273,
   "metadata": {},
   "outputs": [
    {
     "data": {
      "image/png": "[encoded data removed]",
      "text/plain": [
       "<Figure size 1080x432 with 1 Axes>"
      ]
     },
     "metadata": {
      "needs_background": "light"
     },
     "output_type": "display_data"
    }
   ],
   "source": [
    "sns.barplot(data=df, x=df.age, y=df.age.value_counts(), ax=ax);\n",
    "\n",
    "fig, ax = plt.subplots(figsize=(15,6))\n",
    "ax.set_title('Distribution of Credit Limits')\n",
    "plt.xticks(rotation=45)\n",
    "plt.ticklabel_format(style='plain', axis='x')\n",
    "sns.histplot(df.limit_bal, \n",
    "             color = 'g', ax = ax);"
   ]
  },
  {
   "cell_type": "code",
   "execution_count": 259,
   "metadata": {},
   "outputs": [
    {
     "data": {
      "text/plain": [
       "21126.76056338028"
      ]
     },
     "execution_count": 259,
     "metadata": {},
     "output_type": "execute_result"
    }
   ],
   "source": [
    "600000/28.4"
   ]
  },
  {
   "cell_type": "markdown",
   "metadata": {},
   "source": [
    "#### X2 — sex renamed to: male"
   ]
  },
  {
   "cell_type": "markdown",
   "metadata": {},
   "source": [
    "Gender\n",
    "- 1 — male\n",
    "- 2 — female  \n",
    "  \n",
    "This feature would function better for the model as a boolean yes/no for one gender. I will set the column name to 'male', and set values of 2 in this column to 0.  \n",
    "  \n",
    "Note: Please excuse prioritization of the patriarch. 'male' is simply shorter to type, making for easier data manipulation."
   ]
  },
  {
   "cell_type": "code",
   "execution_count": 279,
   "metadata": {},
   "outputs": [
    {
     "data": {
      "text/plain": [
       "Index(['limit_bal', 'sex', 'marriage', 'age', 'pay_0', 'pay_2', 'pay_3',\n",
       "       'pay_4', 'pay_5', 'pay_6', 'bill_amt1', 'bill_amt2', 'bill_amt3',\n",
       "       'bill_amt4', 'bill_amt5', 'bill_amt6', 'pay_amt1', 'pay_amt2',\n",
       "       'pay_amt3', 'pay_amt4', 'pay_amt5', 'pay_amt6', 'y', 'hs_edu',\n",
       "       'uni_edu', 'grad_edu'],\n",
       "      dtype='object', name='ID')"
      ]
     },
     "execution_count": 279,
     "metadata": {},
     "output_type": "execute_result"
    }
   ],
   "source": [
    "df.columns"
   ]
  },
  {
   "cell_type": "markdown",
   "metadata": {},
   "source": [
    "#### X3 — education"
   ]
  },
  {
   "cell_type": "markdown",
   "metadata": {},
   "source": [
    "  - 1 — graduate school\n",
    "  - 2 — university\n",
    "  - 3 — high school\n",
    "  - 4 — other"
   ]
  },
  {
   "cell_type": "markdown",
   "metadata": {},
   "source": [
    "Initial inspection reveals that 1-4 are not the only values given for this feature. Some rows report 0, 5 or 6 for values. I'm hesitant to imput here, however after reviewing the holdout dataset, values for 0, 5 and 6 are consistent there as well, and I will not be able to drop values from the holdout dataset.  \n",
    "  \n",
    "My assumption would be that 0 is no education, and should be imputed to 4/ \"other\". Likewise for 5 and 6, imputing 4/ \"other\" in place of these values would be appropriate, despite the difficulty in discerning the true intention behind them.  "
   ]
  },
  {
   "cell_type": "code",
   "execution_count": 184,
   "metadata": {
    "scrolled": true
   },
   "outputs": [
    {
     "data": {
      "text/plain": [
       "2    10516\n",
       "1     7919\n",
       "3     3713\n",
       "5      208\n",
       "4       90\n",
       "6       42\n",
       "0       11\n",
       "Name: education, dtype: int64"
      ]
     },
     "execution_count": 184,
     "metadata": {},
     "output_type": "execute_result"
    }
   ],
   "source": [
    "df.education.value_counts()"
   ]
  },
  {
   "cell_type": "markdown",
   "metadata": {},
   "source": [
    "#### X4 — marriage"
   ]
  },
  {
   "cell_type": "markdown",
   "metadata": {},
   "source": [
    "    Marital status \n",
    "- 1 — married\n",
    "- 2 — single\n",
    "- 3 — other"
   ]
  },
  {
   "cell_type": "markdown",
   "metadata": {},
   "source": [
    "There are 44 rows that have zero for a value, which has no given description. Rather than impute a meaning to zero and \"3/other,\" I will set all values that are *not* married to zero, making the category a binary \"1/married\" or \"0/not married.\""
   ]
  },
  {
   "cell_type": "code",
   "execution_count": 276,
   "metadata": {},
   "outputs": [
    {
     "data": {
      "text/plain": [
       "2    12026\n",
       "1    10195\n",
       "3      234\n",
       "0       44\n",
       "Name: marriage, dtype: int64"
      ]
     },
     "execution_count": 276,
     "metadata": {},
     "output_type": "execute_result"
    }
   ],
   "source": [
    "df.marriage.value_counts()"
   ]
  },
  {
   "cell_type": "code",
   "execution_count": 277,
   "metadata": {},
   "outputs": [
    {
     "data": {
      "text/plain": [
       "0    12304\n",
       "1    10195\n",
       "Name: marriage, dtype: int64"
      ]
     },
     "execution_count": 277,
     "metadata": {},
     "output_type": "execute_result"
    }
   ],
   "source": [
    "df.marriage.value_counts()"
   ]
  },
  {
   "cell_type": "markdown",
   "metadata": {},
   "source": [
    "#### X5 — age"
   ]
  },
  {
   "cell_type": "markdown",
   "metadata": {},
   "source": [
    "Age in years. This feature seems to be fairly clean, with no values for below age 21, and no values above age 75. Holding a credit balance appears to be more popular at ages younger than 30, then begin to steadily decline with age."
   ]
  },
  {
   "cell_type": "code",
   "execution_count": 204,
   "metadata": {},
   "outputs": [
    {
     "data": {
      "text/html": [
       "<div>\n",
       "<style scoped>\n",
       "    .dataframe tbody tr th:only-of-type {\n",
       "        vertical-align: middle;\n",
       "    }\n",
       "\n",
       "    .dataframe tbody tr th {\n",
       "        vertical-align: top;\n",
       "    }\n",
       "\n",
       "    .dataframe thead th {\n",
       "        text-align: right;\n",
       "    }\n",
       "</style>\n",
       "<table border=\"1\" class=\"dataframe\">\n",
       "  <thead>\n",
       "    <tr style=\"text-align: right;\">\n",
       "      <th>ID</th>\n",
       "      <th>limit_bal</th>\n",
       "      <th>sex</th>\n",
       "      <th>marriage</th>\n",
       "      <th>age</th>\n",
       "      <th>pay_0</th>\n",
       "      <th>pay_2</th>\n",
       "      <th>pay_3</th>\n",
       "      <th>pay_4</th>\n",
       "      <th>pay_5</th>\n",
       "      <th>pay_6</th>\n",
       "      <th>bill_amt1</th>\n",
       "      <th>bill_amt2</th>\n",
       "      <th>bill_amt3</th>\n",
       "      <th>bill_amt4</th>\n",
       "      <th>bill_amt5</th>\n",
       "      <th>bill_amt6</th>\n",
       "      <th>pay_amt1</th>\n",
       "      <th>pay_amt2</th>\n",
       "      <th>pay_amt3</th>\n",
       "      <th>pay_amt4</th>\n",
       "      <th>pay_amt5</th>\n",
       "      <th>pay_amt6</th>\n",
       "      <th>y</th>\n",
       "      <th>hs_edu</th>\n",
       "      <th>uni_edu</th>\n",
       "      <th>grad_edu</th>\n",
       "    </tr>\n",
       "  </thead>\n",
       "  <tbody>\n",
       "  </tbody>\n",
       "</table>\n",
       "</div>"
      ],
      "text/plain": [
       "Empty DataFrame\n",
       "Columns: [limit_bal, sex, marriage, age, pay_0, pay_2, pay_3, pay_4, pay_5, pay_6, bill_amt1, bill_amt2, bill_amt3, bill_amt4, bill_amt5, bill_amt6, pay_amt1, pay_amt2, pay_amt3, pay_amt4, pay_amt5, pay_amt6, y, hs_edu, uni_edu, grad_edu]\n",
       "Index: []"
      ]
     },
     "execution_count": 204,
     "metadata": {},
     "output_type": "execute_result"
    }
   ],
   "source": [
    "df[df.age < 21]"
   ]
  },
  {
   "cell_type": "code",
   "execution_count": 199,
   "metadata": {},
   "outputs": [
    {
     "data": {
      "text/html": [
       "<div>\n",
       "<style scoped>\n",
       "    .dataframe tbody tr th:only-of-type {\n",
       "        vertical-align: middle;\n",
       "    }\n",
       "\n",
       "    .dataframe tbody tr th {\n",
       "        vertical-align: top;\n",
       "    }\n",
       "\n",
       "    .dataframe thead th {\n",
       "        text-align: right;\n",
       "    }\n",
       "</style>\n",
       "<table border=\"1\" class=\"dataframe\">\n",
       "  <thead>\n",
       "    <tr style=\"text-align: right;\">\n",
       "      <th>ID</th>\n",
       "      <th>limit_bal</th>\n",
       "      <th>sex</th>\n",
       "      <th>marriage</th>\n",
       "      <th>age</th>\n",
       "      <th>pay_0</th>\n",
       "      <th>pay_2</th>\n",
       "      <th>pay_3</th>\n",
       "      <th>pay_4</th>\n",
       "      <th>pay_5</th>\n",
       "      <th>pay_6</th>\n",
       "      <th>bill_amt1</th>\n",
       "      <th>bill_amt2</th>\n",
       "      <th>bill_amt3</th>\n",
       "      <th>bill_amt4</th>\n",
       "      <th>bill_amt5</th>\n",
       "      <th>bill_amt6</th>\n",
       "      <th>pay_amt1</th>\n",
       "      <th>pay_amt2</th>\n",
       "      <th>pay_amt3</th>\n",
       "      <th>pay_amt4</th>\n",
       "      <th>pay_amt5</th>\n",
       "      <th>pay_amt6</th>\n",
       "      <th>y</th>\n",
       "      <th>hs_edu</th>\n",
       "      <th>uni_edu</th>\n",
       "      <th>grad_edu</th>\n",
       "    </tr>\n",
       "  </thead>\n",
       "  <tbody>\n",
       "    <tr>\n",
       "      <th>27542</th>\n",
       "      <td>250000</td>\n",
       "      <td>1</td>\n",
       "      <td>1</td>\n",
       "      <td>71</td>\n",
       "      <td>0</td>\n",
       "      <td>0</td>\n",
       "      <td>0</td>\n",
       "      <td>0</td>\n",
       "      <td>0</td>\n",
       "      <td>0</td>\n",
       "      <td>173907</td>\n",
       "      <td>177484</td>\n",
       "      <td>177946</td>\n",
       "      <td>159849</td>\n",
       "      <td>145461</td>\n",
       "      <td>141487</td>\n",
       "      <td>6504</td>\n",
       "      <td>6243</td>\n",
       "      <td>5446</td>\n",
       "      <td>4721</td>\n",
       "      <td>4385</td>\n",
       "      <td>7805</td>\n",
       "      <td>0</td>\n",
       "      <td>1</td>\n",
       "      <td>1</td>\n",
       "      <td>1</td>\n",
       "    </tr>\n",
       "    <tr>\n",
       "      <th>6024</th>\n",
       "      <td>70000</td>\n",
       "      <td>0</td>\n",
       "      <td>1</td>\n",
       "      <td>71</td>\n",
       "      <td>0</td>\n",
       "      <td>0</td>\n",
       "      <td>0</td>\n",
       "      <td>2</td>\n",
       "      <td>0</td>\n",
       "      <td>0</td>\n",
       "      <td>64670</td>\n",
       "      <td>66197</td>\n",
       "      <td>70867</td>\n",
       "      <td>54425</td>\n",
       "      <td>55555</td>\n",
       "      <td>48530</td>\n",
       "      <td>3166</td>\n",
       "      <td>6550</td>\n",
       "      <td>0</td>\n",
       "      <td>2033</td>\n",
       "      <td>1915</td>\n",
       "      <td>1708</td>\n",
       "      <td>0</td>\n",
       "      <td>1</td>\n",
       "      <td>0</td>\n",
       "      <td>0</td>\n",
       "    </tr>\n",
       "    <tr>\n",
       "      <th>388</th>\n",
       "      <td>80000</td>\n",
       "      <td>1</td>\n",
       "      <td>1</td>\n",
       "      <td>73</td>\n",
       "      <td>-1</td>\n",
       "      <td>0</td>\n",
       "      <td>0</td>\n",
       "      <td>2</td>\n",
       "      <td>2</td>\n",
       "      <td>2</td>\n",
       "      <td>63144</td>\n",
       "      <td>65631</td>\n",
       "      <td>68875</td>\n",
       "      <td>70646</td>\n",
       "      <td>72870</td>\n",
       "      <td>75018</td>\n",
       "      <td>3500</td>\n",
       "      <td>4330</td>\n",
       "      <td>3500</td>\n",
       "      <td>3500</td>\n",
       "      <td>3500</td>\n",
       "      <td>5100</td>\n",
       "      <td>1</td>\n",
       "      <td>1</td>\n",
       "      <td>0</td>\n",
       "      <td>0</td>\n",
       "    </tr>\n",
       "    <tr>\n",
       "      <th>29176</th>\n",
       "      <td>160000</td>\n",
       "      <td>0</td>\n",
       "      <td>1</td>\n",
       "      <td>74</td>\n",
       "      <td>0</td>\n",
       "      <td>0</td>\n",
       "      <td>0</td>\n",
       "      <td>-1</td>\n",
       "      <td>-1</td>\n",
       "      <td>-1</td>\n",
       "      <td>79201</td>\n",
       "      <td>69376</td>\n",
       "      <td>66192</td>\n",
       "      <td>16905</td>\n",
       "      <td>0</td>\n",
       "      <td>19789</td>\n",
       "      <td>3783</td>\n",
       "      <td>2268</td>\n",
       "      <td>16905</td>\n",
       "      <td>0</td>\n",
       "      <td>19789</td>\n",
       "      <td>26442</td>\n",
       "      <td>0</td>\n",
       "      <td>1</td>\n",
       "      <td>0</td>\n",
       "      <td>0</td>\n",
       "    </tr>\n",
       "    <tr>\n",
       "      <th>29180</th>\n",
       "      <td>500000</td>\n",
       "      <td>0</td>\n",
       "      <td>1</td>\n",
       "      <td>73</td>\n",
       "      <td>-2</td>\n",
       "      <td>-2</td>\n",
       "      <td>-2</td>\n",
       "      <td>-2</td>\n",
       "      <td>-2</td>\n",
       "      <td>-2</td>\n",
       "      <td>0</td>\n",
       "      <td>2826</td>\n",
       "      <td>2652</td>\n",
       "      <td>2835</td>\n",
       "      <td>8896</td>\n",
       "      <td>3850</td>\n",
       "      <td>2826</td>\n",
       "      <td>2652</td>\n",
       "      <td>2835</td>\n",
       "      <td>8896</td>\n",
       "      <td>3850</td>\n",
       "      <td>711</td>\n",
       "      <td>1</td>\n",
       "      <td>1</td>\n",
       "      <td>1</td>\n",
       "      <td>0</td>\n",
       "    </tr>\n",
       "    <tr>\n",
       "      <th>1645</th>\n",
       "      <td>50000</td>\n",
       "      <td>1</td>\n",
       "      <td>1</td>\n",
       "      <td>72</td>\n",
       "      <td>2</td>\n",
       "      <td>0</td>\n",
       "      <td>0</td>\n",
       "      <td>0</td>\n",
       "      <td>2</td>\n",
       "      <td>2</td>\n",
       "      <td>35417</td>\n",
       "      <td>36453</td>\n",
       "      <td>37166</td>\n",
       "      <td>39710</td>\n",
       "      <td>40519</td>\n",
       "      <td>41324</td>\n",
       "      <td>1908</td>\n",
       "      <td>1621</td>\n",
       "      <td>3165</td>\n",
       "      <td>1600</td>\n",
       "      <td>1620</td>\n",
       "      <td>0</td>\n",
       "      <td>1</td>\n",
       "      <td>1</td>\n",
       "      <td>0</td>\n",
       "      <td>0</td>\n",
       "    </tr>\n",
       "    <tr>\n",
       "      <th>25142</th>\n",
       "      <td>210000</td>\n",
       "      <td>1</td>\n",
       "      <td>1</td>\n",
       "      <td>75</td>\n",
       "      <td>0</td>\n",
       "      <td>0</td>\n",
       "      <td>0</td>\n",
       "      <td>0</td>\n",
       "      <td>0</td>\n",
       "      <td>0</td>\n",
       "      <td>205601</td>\n",
       "      <td>203957</td>\n",
       "      <td>199882</td>\n",
       "      <td>203776</td>\n",
       "      <td>205901</td>\n",
       "      <td>210006</td>\n",
       "      <td>9700</td>\n",
       "      <td>8810</td>\n",
       "      <td>9000</td>\n",
       "      <td>7300</td>\n",
       "      <td>7500</td>\n",
       "      <td>7600</td>\n",
       "      <td>0</td>\n",
       "      <td>1</td>\n",
       "      <td>1</td>\n",
       "      <td>0</td>\n",
       "    </tr>\n",
       "    <tr>\n",
       "      <th>25143</th>\n",
       "      <td>300000</td>\n",
       "      <td>1</td>\n",
       "      <td>1</td>\n",
       "      <td>72</td>\n",
       "      <td>-1</td>\n",
       "      <td>-1</td>\n",
       "      <td>-1</td>\n",
       "      <td>-1</td>\n",
       "      <td>-1</td>\n",
       "      <td>2</td>\n",
       "      <td>4984</td>\n",
       "      <td>752</td>\n",
       "      <td>3737</td>\n",
       "      <td>1433</td>\n",
       "      <td>5522</td>\n",
       "      <td>3233</td>\n",
       "      <td>756</td>\n",
       "      <td>3753</td>\n",
       "      <td>1433</td>\n",
       "      <td>5522</td>\n",
       "      <td>0</td>\n",
       "      <td>27232</td>\n",
       "      <td>0</td>\n",
       "      <td>1</td>\n",
       "      <td>0</td>\n",
       "      <td>0</td>\n",
       "    </tr>\n",
       "    <tr>\n",
       "      <th>10700</th>\n",
       "      <td>140000</td>\n",
       "      <td>1</td>\n",
       "      <td>1</td>\n",
       "      <td>73</td>\n",
       "      <td>0</td>\n",
       "      <td>0</td>\n",
       "      <td>0</td>\n",
       "      <td>0</td>\n",
       "      <td>0</td>\n",
       "      <td>0</td>\n",
       "      <td>135206</td>\n",
       "      <td>135316</td>\n",
       "      <td>134943</td>\n",
       "      <td>135772</td>\n",
       "      <td>138675</td>\n",
       "      <td>137197</td>\n",
       "      <td>5082</td>\n",
       "      <td>5008</td>\n",
       "      <td>5000</td>\n",
       "      <td>6016</td>\n",
       "      <td>5018</td>\n",
       "      <td>5264</td>\n",
       "      <td>0</td>\n",
       "      <td>1</td>\n",
       "      <td>1</td>\n",
       "      <td>0</td>\n",
       "    </tr>\n",
       "    <tr>\n",
       "      <th>25137</th>\n",
       "      <td>180000</td>\n",
       "      <td>1</td>\n",
       "      <td>1</td>\n",
       "      <td>75</td>\n",
       "      <td>1</td>\n",
       "      <td>-2</td>\n",
       "      <td>-2</td>\n",
       "      <td>-2</td>\n",
       "      <td>-2</td>\n",
       "      <td>-2</td>\n",
       "      <td>0</td>\n",
       "      <td>0</td>\n",
       "      <td>0</td>\n",
       "      <td>0</td>\n",
       "      <td>0</td>\n",
       "      <td>0</td>\n",
       "      <td>0</td>\n",
       "      <td>0</td>\n",
       "      <td>0</td>\n",
       "      <td>0</td>\n",
       "      <td>0</td>\n",
       "      <td>0</td>\n",
       "      <td>1</td>\n",
       "      <td>1</td>\n",
       "      <td>1</td>\n",
       "      <td>1</td>\n",
       "    </tr>\n",
       "    <tr>\n",
       "      <th>20265</th>\n",
       "      <td>150000</td>\n",
       "      <td>0</td>\n",
       "      <td>1</td>\n",
       "      <td>72</td>\n",
       "      <td>-2</td>\n",
       "      <td>-2</td>\n",
       "      <td>-2</td>\n",
       "      <td>-2</td>\n",
       "      <td>-2</td>\n",
       "      <td>-2</td>\n",
       "      <td>0</td>\n",
       "      <td>1250</td>\n",
       "      <td>0</td>\n",
       "      <td>3871</td>\n",
       "      <td>6200</td>\n",
       "      <td>336</td>\n",
       "      <td>1250</td>\n",
       "      <td>0</td>\n",
       "      <td>3871</td>\n",
       "      <td>6200</td>\n",
       "      <td>336</td>\n",
       "      <td>0</td>\n",
       "      <td>0</td>\n",
       "      <td>1</td>\n",
       "      <td>0</td>\n",
       "      <td>0</td>\n",
       "    </tr>\n",
       "  </tbody>\n",
       "</table>\n",
       "</div>"
      ],
      "text/plain": [
       "ID     limit_bal  sex  marriage  age  pay_0  pay_2  pay_3  pay_4  pay_5  \\\n",
       "27542     250000    1         1   71      0      0      0      0      0   \n",
       "6024       70000    0         1   71      0      0      0      2      0   \n",
       "388        80000    1         1   73     -1      0      0      2      2   \n",
       "29176     160000    0         1   74      0      0      0     -1     -1   \n",
       "29180     500000    0         1   73     -2     -2     -2     -2     -2   \n",
       "1645       50000    1         1   72      2      0      0      0      2   \n",
       "25142     210000    1         1   75      0      0      0      0      0   \n",
       "25143     300000    1         1   72     -1     -1     -1     -1     -1   \n",
       "10700     140000    1         1   73      0      0      0      0      0   \n",
       "25137     180000    1         1   75      1     -2     -2     -2     -2   \n",
       "20265     150000    0         1   72     -2     -2     -2     -2     -2   \n",
       "\n",
       "ID     pay_6  bill_amt1  bill_amt2  bill_amt3  bill_amt4  bill_amt5  \\\n",
       "27542      0     173907     177484     177946     159849     145461   \n",
       "6024       0      64670      66197      70867      54425      55555   \n",
       "388        2      63144      65631      68875      70646      72870   \n",
       "29176     -1      79201      69376      66192      16905          0   \n",
       "29180     -2          0       2826       2652       2835       8896   \n",
       "1645       2      35417      36453      37166      39710      40519   \n",
       "25142      0     205601     203957     199882     203776     205901   \n",
       "25143      2       4984        752       3737       1433       5522   \n",
       "10700      0     135206     135316     134943     135772     138675   \n",
       "25137     -2          0          0          0          0          0   \n",
       "20265     -2          0       1250          0       3871       6200   \n",
       "\n",
       "ID     bill_amt6  pay_amt1  pay_amt2  pay_amt3  pay_amt4  pay_amt5  pay_amt6  \\\n",
       "27542     141487      6504      6243      5446      4721      4385      7805   \n",
       "6024       48530      3166      6550         0      2033      1915      1708   \n",
       "388        75018      3500      4330      3500      3500      3500      5100   \n",
       "29176      19789      3783      2268     16905         0     19789     26442   \n",
       "29180       3850      2826      2652      2835      8896      3850       711   \n",
       "1645       41324      1908      1621      3165      1600      1620         0   \n",
       "25142     210006      9700      8810      9000      7300      7500      7600   \n",
       "25143       3233       756      3753      1433      5522         0     27232   \n",
       "10700     137197      5082      5008      5000      6016      5018      5264   \n",
       "25137          0         0         0         0         0         0         0   \n",
       "20265        336      1250         0      3871      6200       336         0   \n",
       "\n",
       "ID     y  hs_edu  uni_edu  grad_edu  \n",
       "27542  0       1        1         1  \n",
       "6024   0       1        0         0  \n",
       "388    1       1        0         0  \n",
       "29176  0       1        0         0  \n",
       "29180  1       1        1         0  \n",
       "1645   1       1        0         0  \n",
       "25142  0       1        1         0  \n",
       "25143  0       1        0         0  \n",
       "10700  0       1        1         0  \n",
       "25137  1       1        1         1  \n",
       "20265  0       1        0         0  "
      ]
     },
     "execution_count": 199,
     "metadata": {},
     "output_type": "execute_result"
    }
   ],
   "source": [
    "df[df.age > 70]"
   ]
  },
  {
   "cell_type": "code",
   "execution_count": 235,
   "metadata": {},
   "outputs": [
    {
     "data": {
      "image/png": "[encoded data removed]",
      "text/plain": [
       "<Figure size 1080x432 with 1 Axes>"
      ]
     },
     "metadata": {
      "needs_background": "light"
     },
     "output_type": "display_data"
    }
   ],
   "source": [
    "sns.barplot(data=df, x=df.age, y=df.age.value_counts(), ax=ax);\n",
    "\n",
    "fig, ax = plt.subplots(figsize=(15,6))\n",
    "ax.set_title('Distribution of Credit Default by Age')\n",
    "plt.xticks(rotation=45)\n",
    "sns.histplot(df[df.y == 0].age, \n",
    "             color = 'g', label = 'No Default', kde=True, ax = ax)\n",
    "sns.histplot(df[df.y == 1].age, \n",
    "             bins = 55, color = 'r', label = 'Default', kde=True, ax = ax)\n",
    "ax.legend(labels=['No Default', 'Default']);"
   ]
  },
  {
   "cell_type": "code",
   "execution_count": 238,
   "metadata": {},
   "outputs": [
    {
     "data": {
      "image/png": "[encoded data removed]",
      "text/plain": [
       "<Figure size 1080x432 with 1 Axes>"
      ]
     },
     "metadata": {
      "needs_background": "light"
     },
     "output_type": "display_data"
    }
   ],
   "source": [
    "sns.barplot(data=df, x=df.age, y=df.age.value_counts(), ax=ax);\n",
    "\n",
    "fig, ax = plt.subplots(figsize=(15,6))\n",
    "ax.set_title('Density Comparison of Default by Age')\n",
    "plt.xticks(rotation=45)\n",
    "sns.histplot(df[df.y == 0].age, \n",
    "             color = 'g', label = 'No Default', kde=True, stat='density', ax = ax)\n",
    "sns.histplot(df[df.y == 1].age, \n",
    "             bins = 55, color = 'r', label = 'Default', kde=True, stat='density', ax = ax)\n",
    "ax.legend(labels=['No Default', 'Default']);"
   ]
  },
  {
   "cell_type": "code",
   "execution_count": 231,
   "metadata": {},
   "outputs": [
    {
     "data": {
      "text/plain": [
       "age  y\n",
       "21   0     44\n",
       "     1     12\n",
       "22   0    288\n",
       "     1    132\n",
       "23   0    497\n",
       "         ... \n",
       "73   1      2\n",
       "     0      1\n",
       "74   0      1\n",
       "75   0      1\n",
       "     1      1\n",
       "Name: y, Length: 108, dtype: int64"
      ]
     },
     "execution_count": 231,
     "metadata": {},
     "output_type": "execute_result"
    }
   ],
   "source": [
    "df.groupby('age')['y'].value_counts()"
   ]
  },
  {
   "cell_type": "markdown",
   "metadata": {},
   "source": [
    "#### X6 - X11 — payment history"
   ]
  },
  {
   "cell_type": "markdown",
   "metadata": {},
   "source": [
    "History of past payment. We tracked the past monthly payment records (from April to September, 2005) as follows:\n",
    "- **X6 - pay_0** — the repayment status in September, 2005\n",
    "- **X7 - pay_2** — the repayment status in August, 2005\n",
    "- **X8 - pay_3** — the repayment status in July, 2005\n",
    "- **X9 - pay_4** — the repayment status in June, 2005\n",
    "- **X10 - pay_5** — the repayment status in May, 2005\n",
    "- **X11 - pay_6** — the repayment status in April, 2005  \n",
    "  \n",
    "The measurement scale for the repayment status is:\n",
    "- -1 — pay duly\n",
    "- 1 — payment delay for one month\n",
    "- 2 — payment delay for two months\n",
    "- 3 — payment delay for three months\n",
    "- 4 — payment delay for four months\n",
    "- 5 — payment delay for five months\n",
    "- 6 — payment delay for six months\n",
    "- 7 — payment delay for seven months\n",
    "- 8 — payment delay for eight months\n",
    "- 9 — payment delay for nine months and above"
   ]
  },
  {
   "cell_type": "markdown",
   "metadata": {},
   "source": [
    "Alright now we're getting to the doozies. The first step in cleaning will be to set the -1 value used for pay duly to 0, for (*annoyed grunt*) each monthly category.  \n",
    "  \n",
    "There are also values for -2 for several months, and I have no idea how to impute these. I'm tempted to imput to 0, as it is the median, but my intuition is triggering reluctance. This is worth inspecting closer.\n",
    "  \n",
    "I would also like to note for the record: the fact that the column names taken from the row of header-values jumped from pay_0 to pay_2 is going to haunt me.  \n",
    "  \n",
    "### NOW I SEE WHAT ZACH WAS TALKING ABOUT. WTF DO I DO WITH VALUES OF -2, EH?"
   ]
  },
  {
   "cell_type": "code",
   "execution_count": 286,
   "metadata": {},
   "outputs": [],
   "source": [
    "df['pay_0'] = np.where(df.pay_0 == -1,\n",
    "                                    0,\n",
    "                             df.pay_0)"
   ]
  },
  {
   "cell_type": "code",
   "execution_count": null,
   "metadata": {},
   "outputs": [],
   "source": [
    "df['pay_0'] = np.where(df.pay_0 == -2,\n",
    "                                    0,\n",
    "                             df.pay_0)"
   ]
  },
  {
   "cell_type": "code",
   "execution_count": 287,
   "metadata": {},
   "outputs": [
    {
     "data": {
      "text/plain": [
       " 0    15329\n",
       " 1     2750\n",
       "-2     2048\n",
       " 2     2032\n",
       " 3      239\n",
       " 4       51\n",
       " 5       20\n",
       " 8       15\n",
       " 6        9\n",
       " 7        6\n",
       "Name: pay_0, dtype: int64"
      ]
     },
     "execution_count": 287,
     "metadata": {},
     "output_type": "execute_result"
    }
   ],
   "source": [
    "df.pay_0.value_counts()"
   ]
  },
  {
   "cell_type": "code",
   "execution_count": 293,
   "metadata": {},
   "outputs": [
    {
     "data": {
      "image/png": "[encoded data removed]",
      "text/plain": [
       "<Figure size 1080x432 with 1 Axes>"
      ]
     },
     "metadata": {
      "needs_background": "light"
     },
     "output_type": "display_data"
    }
   ],
   "source": [
    "fig, ax = plt.subplots(figsize=(15,6))\n",
    "ax.set_title('Property Price by Liveable Area Size (sq. ft.)', size=20)\n",
    "ax.set_xlabel('Area in sq. ft.', size=16)\n",
    "sns.histplot(data=df, x=df.pay_0, y=df.pay_0.value_counts(), hue='y', hue_order=[1, 0], ax=ax);"
   ]
  },
  {
   "cell_type": "code",
   "execution_count": 288,
   "metadata": {},
   "outputs": [
    {
     "data": {
      "text/plain": [
       " 0    11804\n",
       "-1     4526\n",
       " 2     2967\n",
       "-2     2813\n",
       " 3      251\n",
       " 4       70\n",
       " 1       24\n",
       " 5       19\n",
       " 7       16\n",
       " 6        8\n",
       " 8        1\n",
       "Name: pay_2, dtype: int64"
      ]
     },
     "execution_count": 288,
     "metadata": {},
     "output_type": "execute_result"
    }
   ],
   "source": [
    "df.pay_2.value_counts()"
   ]
  },
  {
   "cell_type": "code",
   "execution_count": 282,
   "metadata": {},
   "outputs": [
    {
     "data": {
      "text/plain": [
       "Index(['limit_bal', 'male', 'marriage', 'age', 'pay_0', 'pay_2', 'pay_3',\n",
       "       'pay_4', 'pay_5', 'pay_6', 'bill_amt1', 'bill_amt2', 'bill_amt3',\n",
       "       'bill_amt4', 'bill_amt5', 'bill_amt6', 'pay_amt1', 'pay_amt2',\n",
       "       'pay_amt3', 'pay_amt4', 'pay_amt5', 'pay_amt6', 'y', 'hs_edu',\n",
       "       'uni_edu', 'grad_edu'],\n",
       "      dtype='object', name='ID')"
      ]
     },
     "execution_count": 282,
     "metadata": {},
     "output_type": "execute_result"
    }
   ],
   "source": [
    "df.columns"
   ]
  },
  {
   "cell_type": "markdown",
   "metadata": {},
   "source": [
    "### Descriptions of Dataset Features"
   ]
  },
  {
   "cell_type": "markdown",
   "metadata": {},
   "source": [
    "This research employed a binary variable, default payment (Yes = 1, No = 0), as the response variable. This study reviewed the literature and used the following 23 variables as explanatory variables: \n",
    "- <b>X1</b> — Amount of the given credit (NT dollar): it includes both the individual consumer credit and his/her family (supplementary) credit \n",
    "- <b>X2</b> — Gender: \n",
    "  - 1 — male\n",
    "  - 2 — female\n",
    "- <b>X3</b> — Education:\n",
    "  - 1 — graduate school\n",
    "  - 2 — university\n",
    "  - 3 — high school\n",
    "  - 4 — other\n",
    "- <b>X4</b> — Marital status \n",
    "  - 1 — married\n",
    "  - 2 — single\n",
    "  - 3 - others  \n",
    "- <b>X5</b> — Age (year) \n",
    "- <b>X6 - X11</b> — History of past payment. We tracked the past monthly payment records (from April to September, 2005) as follows: \n",
    "    - X6 — the repayment status in September, 2005\n",
    "    - X7 — the repayment status in August, 2005\n",
    "    - ...\n",
    "    - X11 — the repayment status in April, 2005 \n",
    "      \n",
    "      The measurement scale for the repayment status is:\n",
    "      - -1 — pay duly\n",
    "      - 1 — payment delay for one month \n",
    "      - 2 — payment delay for two months\n",
    "      - ...\n",
    "      - 8 — payment delay for eight months\n",
    "      - 9 — payment delay for nine months and above\n",
    "- <b>X12-X17</b> — Amount of bill statement (NT dollar)\n",
    "    - X12 — amount of bill statement in September, 2005\n",
    "    - ...\n",
    "    - X13 — amount of bill statement in August, 2005\n",
    "    - X17 — amount of bill statement in April, 2005 \n",
    "- <b>X18-X23</b> — Amount of previous payment (NT dollar) \n",
    "    - X18 — amount paid in September, 2005\n",
    "    - X19 — amount paid in August, 2005\n",
    "    - ...\n",
    "    - X23 — amount paid in April, 2005 "
   ]
  },
  {
   "cell_type": "markdown",
   "metadata": {},
   "source": [
    "## Feature Engineering"
   ]
  },
  {
   "cell_type": "markdown",
   "metadata": {},
   "source": [
    "The **limit_bal** feature (formerly X1) has 52 unique values after cleaning. I will create dummy variables for each of these for my model, treating each value as a categorical group rather than a continuous variable.  \n",
    "\n",
    "The **education** feature (formerly X3) would be more workable as dummy variables. I will create three new features  for graduate school, university, and high school education status. For those that have high school education, they will receive a \"1\" in `hs_edu` and a zero for the other two. For those with university education, they will receive a \"1\" for both `uni_edu` and `hs_edu`. Graduate school educated will get \"1\" for all three. Others will get a zero for all three.  \n",
    "  \n",
    "This is of course playing off of the assumption that all graduate students have attended university, and all university students have attended high school. Presuming that the education system in Taiwan is similar to that in the United States, this would be the case a significant majority of the time.  "
   ]
  },
  {
   "cell_type": "code",
   "execution_count": 190,
   "metadata": {},
   "outputs": [
    {
     "data": {
      "text/html": [
       "<div>\n",
       "<style scoped>\n",
       "    .dataframe tbody tr th:only-of-type {\n",
       "        vertical-align: middle;\n",
       "    }\n",
       "\n",
       "    .dataframe tbody tr th {\n",
       "        vertical-align: top;\n",
       "    }\n",
       "\n",
       "    .dataframe thead th {\n",
       "        text-align: right;\n",
       "    }\n",
       "</style>\n",
       "<table border=\"1\" class=\"dataframe\">\n",
       "  <thead>\n",
       "    <tr style=\"text-align: right;\">\n",
       "      <th>ID</th>\n",
       "      <th>limit_bal</th>\n",
       "      <th>sex</th>\n",
       "      <th>marriage</th>\n",
       "      <th>age</th>\n",
       "      <th>pay_0</th>\n",
       "      <th>pay_2</th>\n",
       "      <th>pay_3</th>\n",
       "      <th>pay_4</th>\n",
       "      <th>pay_5</th>\n",
       "      <th>pay_6</th>\n",
       "      <th>bill_amt1</th>\n",
       "      <th>bill_amt2</th>\n",
       "      <th>bill_amt3</th>\n",
       "      <th>bill_amt4</th>\n",
       "      <th>bill_amt5</th>\n",
       "      <th>bill_amt6</th>\n",
       "      <th>pay_amt1</th>\n",
       "      <th>pay_amt2</th>\n",
       "      <th>pay_amt3</th>\n",
       "      <th>pay_amt4</th>\n",
       "      <th>pay_amt5</th>\n",
       "      <th>pay_amt6</th>\n",
       "      <th>y</th>\n",
       "      <th>hs_edu</th>\n",
       "      <th>uni_edu</th>\n",
       "      <th>grad_edu</th>\n",
       "    </tr>\n",
       "  </thead>\n",
       "  <tbody>\n",
       "    <tr>\n",
       "      <th>28835</th>\n",
       "      <td>220000</td>\n",
       "      <td>0</td>\n",
       "      <td>2</td>\n",
       "      <td>36</td>\n",
       "      <td>0</td>\n",
       "      <td>0</td>\n",
       "      <td>0</td>\n",
       "      <td>0</td>\n",
       "      <td>0</td>\n",
       "      <td>0</td>\n",
       "      <td>222598</td>\n",
       "      <td>222168</td>\n",
       "      <td>217900</td>\n",
       "      <td>221193</td>\n",
       "      <td>181859</td>\n",
       "      <td>184605</td>\n",
       "      <td>10000</td>\n",
       "      <td>8018</td>\n",
       "      <td>10121</td>\n",
       "      <td>6006</td>\n",
       "      <td>10987</td>\n",
       "      <td>143779</td>\n",
       "      <td>1</td>\n",
       "      <td>1</td>\n",
       "      <td>1</td>\n",
       "      <td>1</td>\n",
       "    </tr>\n",
       "    <tr>\n",
       "      <th>25329</th>\n",
       "      <td>200000</td>\n",
       "      <td>0</td>\n",
       "      <td>2</td>\n",
       "      <td>29</td>\n",
       "      <td>-1</td>\n",
       "      <td>-1</td>\n",
       "      <td>-1</td>\n",
       "      <td>-1</td>\n",
       "      <td>-1</td>\n",
       "      <td>-1</td>\n",
       "      <td>326</td>\n",
       "      <td>326</td>\n",
       "      <td>326</td>\n",
       "      <td>326</td>\n",
       "      <td>326</td>\n",
       "      <td>326</td>\n",
       "      <td>326</td>\n",
       "      <td>326</td>\n",
       "      <td>326</td>\n",
       "      <td>326</td>\n",
       "      <td>326</td>\n",
       "      <td>326</td>\n",
       "      <td>0</td>\n",
       "      <td>1</td>\n",
       "      <td>0</td>\n",
       "      <td>0</td>\n",
       "    </tr>\n",
       "    <tr>\n",
       "      <th>18894</th>\n",
       "      <td>180000</td>\n",
       "      <td>0</td>\n",
       "      <td>2</td>\n",
       "      <td>27</td>\n",
       "      <td>-2</td>\n",
       "      <td>-2</td>\n",
       "      <td>-2</td>\n",
       "      <td>-2</td>\n",
       "      <td>-2</td>\n",
       "      <td>-2</td>\n",
       "      <td>0</td>\n",
       "      <td>0</td>\n",
       "      <td>0</td>\n",
       "      <td>0</td>\n",
       "      <td>0</td>\n",
       "      <td>0</td>\n",
       "      <td>0</td>\n",
       "      <td>0</td>\n",
       "      <td>0</td>\n",
       "      <td>0</td>\n",
       "      <td>0</td>\n",
       "      <td>0</td>\n",
       "      <td>0</td>\n",
       "      <td>1</td>\n",
       "      <td>1</td>\n",
       "      <td>1</td>\n",
       "    </tr>\n",
       "    <tr>\n",
       "      <th>690</th>\n",
       "      <td>80000</td>\n",
       "      <td>1</td>\n",
       "      <td>2</td>\n",
       "      <td>32</td>\n",
       "      <td>0</td>\n",
       "      <td>0</td>\n",
       "      <td>0</td>\n",
       "      <td>0</td>\n",
       "      <td>0</td>\n",
       "      <td>0</td>\n",
       "      <td>51372</td>\n",
       "      <td>51872</td>\n",
       "      <td>47593</td>\n",
       "      <td>43882</td>\n",
       "      <td>42256</td>\n",
       "      <td>42527</td>\n",
       "      <td>1853</td>\n",
       "      <td>1700</td>\n",
       "      <td>1522</td>\n",
       "      <td>1548</td>\n",
       "      <td>1488</td>\n",
       "      <td>1500</td>\n",
       "      <td>0</td>\n",
       "      <td>1</td>\n",
       "      <td>1</td>\n",
       "      <td>0</td>\n",
       "    </tr>\n",
       "    <tr>\n",
       "      <th>6239</th>\n",
       "      <td>10000</td>\n",
       "      <td>1</td>\n",
       "      <td>2</td>\n",
       "      <td>27</td>\n",
       "      <td>0</td>\n",
       "      <td>0</td>\n",
       "      <td>0</td>\n",
       "      <td>0</td>\n",
       "      <td>0</td>\n",
       "      <td>0</td>\n",
       "      <td>8257</td>\n",
       "      <td>7995</td>\n",
       "      <td>4878</td>\n",
       "      <td>5444</td>\n",
       "      <td>2639</td>\n",
       "      <td>2697</td>\n",
       "      <td>2000</td>\n",
       "      <td>1100</td>\n",
       "      <td>600</td>\n",
       "      <td>300</td>\n",
       "      <td>300</td>\n",
       "      <td>1000</td>\n",
       "      <td>1</td>\n",
       "      <td>1</td>\n",
       "      <td>1</td>\n",
       "      <td>0</td>\n",
       "    </tr>\n",
       "  </tbody>\n",
       "</table>\n",
       "</div>"
      ],
      "text/plain": [
       "ID     limit_bal  sex  marriage  age  pay_0  pay_2  pay_3  pay_4  pay_5  \\\n",
       "28835     220000    0         2   36      0      0      0      0      0   \n",
       "25329     200000    0         2   29     -1     -1     -1     -1     -1   \n",
       "18894     180000    0         2   27     -2     -2     -2     -2     -2   \n",
       "690        80000    1         2   32      0      0      0      0      0   \n",
       "6239       10000    1         2   27      0      0      0      0      0   \n",
       "\n",
       "ID     pay_6  bill_amt1  bill_amt2  bill_amt3  bill_amt4  bill_amt5  \\\n",
       "28835      0     222598     222168     217900     221193     181859   \n",
       "25329     -1        326        326        326        326        326   \n",
       "18894     -2          0          0          0          0          0   \n",
       "690        0      51372      51872      47593      43882      42256   \n",
       "6239       0       8257       7995       4878       5444       2639   \n",
       "\n",
       "ID     bill_amt6  pay_amt1  pay_amt2  pay_amt3  pay_amt4  pay_amt5  pay_amt6  \\\n",
       "28835     184605     10000      8018     10121      6006     10987    143779   \n",
       "25329        326       326       326       326       326       326       326   \n",
       "18894          0         0         0         0         0         0         0   \n",
       "690        42527      1853      1700      1522      1548      1488      1500   \n",
       "6239        2697      2000      1100       600       300       300      1000   \n",
       "\n",
       "ID     y  hs_edu  uni_edu  grad_edu  \n",
       "28835  1       1        1         1  \n",
       "25329  0       1        0         0  \n",
       "18894  0       1        1         1  \n",
       "690    0       1        1         0  \n",
       "6239   1       1        1         0  "
      ]
     },
     "execution_count": 190,
     "metadata": {},
     "output_type": "execute_result"
    }
   ],
   "source": [
    "df.head()"
   ]
  },
  {
   "cell_type": "markdown",
   "metadata": {
    "heading_collapsed": true
   },
   "source": [
    "## Feature Selection"
   ]
  },
  {
   "cell_type": "code",
   "execution_count": null,
   "metadata": {
    "hidden": true
   },
   "outputs": [],
   "source": []
  },
  {
   "cell_type": "markdown",
   "metadata": {
    "heading_collapsed": true
   },
   "source": [
    "## Model Fitting and Hyperparameter Tuning"
   ]
  },
  {
   "cell_type": "markdown",
   "metadata": {
    "hidden": true
   },
   "source": [
    "KNN, Logistic Regression, Decision Tree"
   ]
  },
  {
   "cell_type": "code",
   "execution_count": null,
   "metadata": {
    "hidden": true
   },
   "outputs": [],
   "source": []
  },
  {
   "cell_type": "markdown",
   "metadata": {
    "heading_collapsed": true
   },
   "source": [
    "## Model Evaluation"
   ]
  },
  {
   "cell_type": "code",
   "execution_count": null,
   "metadata": {
    "hidden": true
   },
   "outputs": [],
   "source": []
  },
  {
   "cell_type": "markdown",
   "metadata": {
    "heading_collapsed": true
   },
   "source": [
    "## Final Model"
   ]
  },
  {
   "cell_type": "markdown",
   "metadata": {
    "heading_collapsed": true
   },
   "source": [
    "## Project Guidelines"
   ]
  },
  {
   "cell_type": "markdown",
   "metadata": {
    "hidden": true
   },
   "source": [
    "### Applying Classification Modeling  "
   ]
  },
  {
   "cell_type": "markdown",
   "metadata": {
    "hidden": true
   },
   "source": [
    "The goal of this week's assessment is to find the model which best predicts whether or not a person will default on their bank loan. In doing so, we want to utilize all of the different tools we have learned over the course: data cleaning, EDA, feature engineering/transformation, feature selection, hyperparameter tuning, and model evaluation. "
   ]
  },
  {
   "cell_type": "markdown",
   "metadata": {
    "hidden": true
   },
   "source": [
    "#### Data Set Information:"
   ]
  },
  {
   "cell_type": "markdown",
   "metadata": {
    "hidden": true
   },
   "source": [
    "This research aimed at the case of customers default payments in Taiwan and compares the predictive accuracy of probability of default among six data mining methods. From the perspective of risk management, the result of predictive accuracy of the estimated probability of default will be more valuable than the binary result of classification - credible or not credible clients. Because the real probability of default is unknown, this study presented the novel Sorting Smoothing Method to estimate the real probability of default. With the real probability of default as the response variable (Y), and the predictive probability of default as the independent variable (X), the simple linear regression result (Y = A + BX) shows that the forecasting model produced by artificial neural network has the highest coefficient of determination; its regression intercept (A) is close to zero, and regression coefficient (B) to one. Therefore, among the six data mining techniques, artificial neural network is the only one that can accurately estimate the real probability of default. \n",
    "- NT is the abbreviation for New Taiwain. \n"
   ]
  },
  {
   "cell_type": "markdown",
   "metadata": {
    "hidden": true
   },
   "source": [
    "#### Attribute Information:"
   ]
  },
  {
   "cell_type": "markdown",
   "metadata": {
    "hidden": true
   },
   "source": [
    "This research employed a binary variable, default payment (Yes = 1, No = 0), as the response variable. This study reviewed the literature and used the following 23 variables as explanatory variables: \n",
    "- X1: Amount of the given credit (NT dollar): it includes both the individual consumer credit and his/her family (supplementary) credit. \n",
    "- X2: Gender (1 = male; 2 = female). \n",
    "- X3: Education (1 = graduate school; 2 = university; 3 = high school; 4 = others). \n",
    "- X4: Marital status (1 = married; 2 = single; 3 = others). \n",
    "- X5: Age (year). \n",
    "- X6 - X11: History of past payment. We tracked the past monthly payment records (from April to September, 2005) as follows: \n",
    "    - X6 = the repayment status in September, 2005; \n",
    "    - X7 = the repayment status in August, 2005; . . .;\n",
    "    - etc...\n",
    "    - X11 = the repayment status in April, 2005. \n",
    "      \n",
    "      The measurement scale for the repayment status is:  \n",
    "      - -1 = pay duly; \n",
    "      - 1 = payment delay for one month; \n",
    "      - 2 = payment delay for two months; \n",
    "      - . . .; \n",
    "      - 8 = payment delay for eight months; \n",
    "      - 9 = payment delay for nine months and above. \n",
    "- X12-X17: Amount of bill statement (NT dollar). \n",
    "    - X12 = amount of bill statement in September, 2005;\n",
    "    - etc...\n",
    "    - X13 = amount of bill statement in August, 2005; . . .; \n",
    "    - X17 = amount of bill statement in April, 2005. \n",
    "- X18-X23: Amount of previous payment (NT dollar). \n",
    "    - X18 = amount paid in September, 2005; \n",
    "    - X19 = amount paid in August, 2005; . . .;\n",
    "    - etc...\n",
    "    - X23 = amount paid in April, 2005. "
   ]
  },
  {
   "cell_type": "markdown",
   "metadata": {
    "hidden": true
   },
   "source": [
    "You will fit three different models (KNN, Logistic Regression, and Decision Tree Classifier) to predict credit card defaults and use gridsearch to find the best hyperparameters for those models. Then you will compare the performance of those three models on a test set to find the best one.  \n"
   ]
  },
  {
   "cell_type": "markdown",
   "metadata": {
    "hidden": true
   },
   "source": [
    "### Presentation"
   ]
  },
  {
   "cell_type": "markdown",
   "metadata": {
    "hidden": true
   },
   "source": [
    "1. Clean up your data set so that you can perform an EDA. \n",
    "    - This includes handling null values, categorical variables, removing unimportant columns, and removing outliers.\n",
    "2. Perform EDA to identify opportunities to create new features.\n",
    "    - [Great Example of EDA for classification](https://www.kaggle.com/stephaniestallworth/titanic-eda-classification-end-to-end) \n",
    "    - [Using Pairplots with Classification](https://towardsdatascience.com/visualizing-data-with-pair-plots-in-python-f228cf529166)\n",
    "3. Engineer new features. \n",
    "    - Create polynomial and/or interaction features. \n",
    "    - Additionaly, you must also create **at least 2 new features** that are not interactions or polynomial transformations. \n",
    "        - *For example, you can create a new dummy variable that based on the value of a continuous variable (billamount6 >2000) or take the average of some past amounts.*\n",
    "4. Perform some feature selection. \n",
    "    \n",
    "5. You must fit **three** models to your data and tune **at least 1 hyperparameter** per model. \n",
    "6. Using the F-1 Score, evaluate how well your models perform and identify your best model.\n",
    "7. Using information from your EDA process and your model(s) output provide insight as to which borrowers are more likely to deafult\n"
   ]
  },
  {
   "cell_type": "code",
   "execution_count": null,
   "metadata": {
    "hidden": true
   },
   "outputs": [],
   "source": []
  },
  {
   "cell_type": "code",
   "execution_count": null,
   "metadata": {
    "hidden": true
   },
   "outputs": [],
   "source": []
  }
 ],
 "metadata": {
  "kernelspec": {
   "display_name": "Python 3",
   "language": "python",
   "name": "python3"
  },
  "language_info": {
   "codemirror_mode": {
    "name": "ipython",
    "version": 3
   },
   "file_extension": ".py",
   "mimetype": "text/x-python",
   "name": "python",
   "nbconvert_exporter": "python",
   "pygments_lexer": "ipython3",
   "version": "3.8.5"
  },
  "toc": {
   "base_numbering": 1,
   "nav_menu": {},
   "number_sections": true,
   "sideBar": true,
   "skip_h1_title": false,
   "title_cell": "Table of Contents",
   "title_sidebar": "Contents",
   "toc_cell": false,
   "toc_position": {},
   "toc_section_display": true,
   "toc_window_display": false
  }
 },
 "nbformat": 4,
 "nbformat_minor": 2
}
